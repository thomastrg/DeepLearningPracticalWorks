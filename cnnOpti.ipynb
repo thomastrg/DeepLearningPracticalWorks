{
  "nbformat": 4,
  "nbformat_minor": 0,
  "metadata": {
    "colab": {
      "name": "cnnOpti.ipynb",
      "provenance": [],
      "collapsed_sections": []
    },
    "kernelspec": {
      "name": "python3",
      "display_name": "Python 3"
    },
    "accelerator": "GPU"
  },
  "cells": [
    {
      "cell_type": "code",
      "metadata": {
        "id": "oXbGeo3-yRnB"
      },
      "source": [
        "try:\n",
        "  %tensorflow_version 2.x\n",
        "except Exception:\n",
        "    pass"
      ],
      "execution_count": null,
      "outputs": []
    },
    {
      "cell_type": "code",
      "metadata": {
        "colab": {
          "base_uri": "https://localhost:8080/",
          "height": 35
        },
        "id": "xFXqe1Z-Xg5N",
        "outputId": "b14d5a1a-da01-4eea-9dd9-cee97edc4c2e"
      },
      "source": [
        "import tensorflow as tf\n",
        "from tensorflow.python.client import device_lib\n",
        "\n",
        "import matplotlib.pyplot as plt\n",
        "import numpy as np\n",
        "\n",
        "from tensorflow import keras\n",
        "from tensorflow.keras.models import Sequential\n",
        "from keras.layers import Dense , Conv2D , Flatten , MaxPooling2D, Dropout,BatchNormalization\n",
        "from keras.regularizers import l2\n",
        "from tensorflow.keras.utils import normalize\n",
        "\n",
        "tf.test.gpu_device_name()"
      ],
      "execution_count": null,
      "outputs": [
        {
          "output_type": "execute_result",
          "data": {
            "application/vnd.google.colaboratory.intrinsic+json": {
              "type": "string"
            },
            "text/plain": [
              "'/device:GPU:0'"
            ]
          },
          "metadata": {
            "tags": []
          },
          "execution_count": 7
        }
      ]
    },
    {
      "cell_type": "code",
      "metadata": {
        "colab": {
          "base_uri": "https://localhost:8080/"
        },
        "id": "L10XHujQXkQ4",
        "outputId": "6ef9507d-62e7-44f7-dd02-0e41389e02c2"
      },
      "source": [
        "device_lib.list_local_devices()"
      ],
      "execution_count": null,
      "outputs": [
        {
          "output_type": "execute_result",
          "data": {
            "text/plain": [
              "[name: \"/device:CPU:0\"\n",
              " device_type: \"CPU\"\n",
              " memory_limit: 268435456\n",
              " locality {\n",
              " }\n",
              " incarnation: 12549579591334007152, name: \"/device:GPU:0\"\n",
              " device_type: \"GPU\"\n",
              " memory_limit: 14674281152\n",
              " locality {\n",
              "   bus_id: 1\n",
              "   links {\n",
              "   }\n",
              " }\n",
              " incarnation: 7083360788455909254\n",
              " physical_device_desc: \"device: 0, name: Tesla T4, pci bus id: 0000:00:04.0, compute capability: 7.5\"]"
            ]
          },
          "metadata": {
            "tags": []
          },
          "execution_count": 8
        }
      ]
    },
    {
      "cell_type": "code",
      "metadata": {
        "id": "n-M2XCZwXsXQ"
      },
      "source": [
        "#Load dataset\n",
        "(X_train, y_train), (X_test, y_test) = tf.keras.datasets.cifar10.load_data()"
      ],
      "execution_count": null,
      "outputs": []
    },
    {
      "cell_type": "code",
      "metadata": {
        "id": "uzAXJ4lFLv73"
      },
      "source": [
        "X_train=np.float32(X_train/255.0)\n",
        "X_test=np.float32(X_test/255.0)"
      ],
      "execution_count": null,
      "outputs": []
    },
    {
      "cell_type": "code",
      "metadata": {
        "id": "GAHw0JCwL7f5"
      },
      "source": [
        ""
      ],
      "execution_count": null,
      "outputs": []
    },
    {
      "cell_type": "code",
      "metadata": {
        "id": "ibQSMwrxXuIP"
      },
      "source": [
        "#LConvert to float\n",
        "#X_train_bis=normalize(X_train.astype(float))\n",
        "#X_test_bis=normalize(X_test.astype(float))"
      ],
      "execution_count": null,
      "outputs": []
    },
    {
      "cell_type": "code",
      "metadata": {
        "colab": {
          "base_uri": "https://localhost:8080/"
        },
        "id": "dXAFCxxZMj_g",
        "outputId": "e9d65498-d080-48c3-857f-6701552c7674"
      },
      "source": [
        "X_test.shape,X_train.shape"
      ],
      "execution_count": null,
      "outputs": [
        {
          "output_type": "execute_result",
          "data": {
            "text/plain": [
              "((10000, 32, 32, 3), (50000, 32, 32, 3))"
            ]
          },
          "metadata": {
            "tags": []
          },
          "execution_count": 12
        }
      ]
    },
    {
      "cell_type": "code",
      "metadata": {
        "colab": {
          "base_uri": "https://localhost:8080/"
        },
        "id": "QxFCDsAHL8Pu",
        "outputId": "26a47e80-0864-4daa-9d31-58fe9af479ec"
      },
      "source": [
        "len(X_train[0]),len(X_train[0][0]),len(X_train[0][0][0])"
      ],
      "execution_count": null,
      "outputs": [
        {
          "output_type": "execute_result",
          "data": {
            "text/plain": [
              "(32, 32, 3)"
            ]
          },
          "metadata": {
            "tags": []
          },
          "execution_count": 13
        }
      ]
    },
    {
      "cell_type": "code",
      "metadata": {
        "colab": {
          "base_uri": "https://localhost:8080/"
        },
        "id": "QbvcgXSTMDS_",
        "outputId": "381ed1c8-fd57-4f15-a7e3-2f874fd4a62e"
      },
      "source": [
        "np.unique(y_train),np.unique(y_test)"
      ],
      "execution_count": null,
      "outputs": [
        {
          "output_type": "execute_result",
          "data": {
            "text/plain": [
              "(array([0, 1, 2, 3, 4, 5, 6, 7, 8, 9], dtype=uint8),\n",
              " array([0, 1, 2, 3, 4, 5, 6, 7, 8, 9], dtype=uint8))"
            ]
          },
          "metadata": {
            "tags": []
          },
          "execution_count": 14
        }
      ]
    },
    {
      "cell_type": "markdown",
      "metadata": {
        "id": "DZGlcz6JKxa5"
      },
      "source": [
        "Ex3"
      ]
    },
    {
      "cell_type": "code",
      "metadata": {
        "id": "yT8TjJpCKzZh"
      },
      "source": [
        "net1 = Sequential([Conv2D(filters=32, kernel_size=3, input_shape = (32,32,3), activation='relu'),\n",
        "                   BatchNormalization(),\n",
        "                   MaxPooling2D(pool_size=(2,2), strides=2),\n",
        "                   Conv2D(filters=64, kernel_size=3, activation='relu'),\n",
        "                   BatchNormalization(),\n",
        "                   MaxPooling2D(pool_size=(2,2), strides=2),\n",
        "                   Conv2D(filters=64, kernel_size=3, activation='relu'),\n",
        "                   BatchNormalization(),\n",
        "                   MaxPooling2D(pool_size=(2,2), strides=2),\n",
        "                   Flatten(),\n",
        "                   Dense(512, activation='relu'),\n",
        "                   BatchNormalization(),\n",
        "                   Dense(10, activation='softmax'),\n",
        "                   ])"
      ],
      "execution_count": null,
      "outputs": []
    },
    {
      "cell_type": "markdown",
      "metadata": {
        "id": "s1iyNtzaSRH6"
      },
      "source": [
        "## Nombre de parametres par layer"
      ]
    },
    {
      "cell_type": "code",
      "metadata": {
        "colab": {
          "base_uri": "https://localhost:8080/"
        },
        "id": "Lf1VlabVRnXi",
        "outputId": "296296d1-8109-4c55-8749-1afe9b5f95bc"
      },
      "source": [
        "#premiere layer  \n",
        "(3*3*3+1)*32"
      ],
      "execution_count": null,
      "outputs": [
        {
          "output_type": "execute_result",
          "data": {
            "text/plain": [
              "896"
            ]
          },
          "metadata": {
            "tags": []
          },
          "execution_count": 16
        }
      ]
    },
    {
      "cell_type": "code",
      "metadata": {
        "colab": {
          "base_uri": "https://localhost:8080/"
        },
        "id": "mwmBFPycRtGI",
        "outputId": "c27f56ee-cf16-4160-efcd-cea1cdb74da4"
      },
      "source": [
        "#deuxieme layer, 32 est la profondeur\n",
        "(3*3*32+1)*64"
      ],
      "execution_count": null,
      "outputs": [
        {
          "output_type": "execute_result",
          "data": {
            "text/plain": [
              "18496"
            ]
          },
          "metadata": {
            "tags": []
          },
          "execution_count": 17
        }
      ]
    },
    {
      "cell_type": "code",
      "metadata": {
        "colab": {
          "base_uri": "https://localhost:8080/"
        },
        "id": "2GrKtoWuRyDR",
        "outputId": "fe9c865c-f808-404e-f430-04731f643218"
      },
      "source": [
        "#troisieme layer \n",
        "(3*3*64+1)*64"
      ],
      "execution_count": null,
      "outputs": [
        {
          "output_type": "execute_result",
          "data": {
            "text/plain": [
              "36928"
            ]
          },
          "metadata": {
            "tags": []
          },
          "execution_count": 18
        }
      ]
    },
    {
      "cell_type": "code",
      "metadata": {
        "colab": {
          "base_uri": "https://localhost:8080/"
        },
        "id": "KtIx-TZnRnjs",
        "outputId": "7c1e1b7d-c578-462c-e098-2f78280dcb26"
      },
      "source": [
        "#quatrieme layer\n",
        "4*4*64"
      ],
      "execution_count": null,
      "outputs": [
        {
          "output_type": "execute_result",
          "data": {
            "text/plain": [
              "1024"
            ]
          },
          "metadata": {
            "tags": []
          },
          "execution_count": 19
        }
      ]
    },
    {
      "cell_type": "code",
      "metadata": {
        "colab": {
          "base_uri": "https://localhost:8080/"
        },
        "id": "zHVWOx_QRnnh",
        "outputId": "9df01bab-be97-4307-98be-3fa8bc41c938"
      },
      "source": [
        "#Dense 1\n",
        "512* (1024+1)"
      ],
      "execution_count": null,
      "outputs": [
        {
          "output_type": "execute_result",
          "data": {
            "text/plain": [
              "524800"
            ]
          },
          "metadata": {
            "tags": []
          },
          "execution_count": 20
        }
      ]
    },
    {
      "cell_type": "code",
      "metadata": {
        "colab": {
          "base_uri": "https://localhost:8080/"
        },
        "id": "0d5qCy6qSZKG",
        "outputId": "9bce84c2-7911-4c16-e248-59756084ab1e"
      },
      "source": [
        "#Dense 2 \n",
        "10*(512+1)"
      ],
      "execution_count": null,
      "outputs": [
        {
          "output_type": "execute_result",
          "data": {
            "text/plain": [
              "5130"
            ]
          },
          "metadata": {
            "tags": []
          },
          "execution_count": 21
        }
      ]
    },
    {
      "cell_type": "markdown",
      "metadata": {
        "id": "rQYg7tAWQRxH"
      },
      "source": [
        "Ex4"
      ]
    },
    {
      "cell_type": "code",
      "metadata": {
        "colab": {
          "base_uri": "https://localhost:8080/"
        },
        "id": "pu7ng9SSOfk0",
        "outputId": "622dba36-c7b3-46b3-e4d8-c062105e2847"
      },
      "source": [
        "net1.summary()"
      ],
      "execution_count": null,
      "outputs": [
        {
          "output_type": "stream",
          "text": [
            "Model: \"sequential\"\n",
            "_________________________________________________________________\n",
            "Layer (type)                 Output Shape              Param #   \n",
            "=================================================================\n",
            "conv2d (Conv2D)              (None, 30, 30, 32)        896       \n",
            "_________________________________________________________________\n",
            "batch_normalization (BatchNo (None, 30, 30, 32)        128       \n",
            "_________________________________________________________________\n",
            "max_pooling2d (MaxPooling2D) (None, 15, 15, 32)        0         \n",
            "_________________________________________________________________\n",
            "conv2d_1 (Conv2D)            (None, 13, 13, 64)        18496     \n",
            "_________________________________________________________________\n",
            "batch_normalization_1 (Batch (None, 13, 13, 64)        256       \n",
            "_________________________________________________________________\n",
            "max_pooling2d_1 (MaxPooling2 (None, 6, 6, 64)          0         \n",
            "_________________________________________________________________\n",
            "conv2d_2 (Conv2D)            (None, 4, 4, 64)          36928     \n",
            "_________________________________________________________________\n",
            "batch_normalization_2 (Batch (None, 4, 4, 64)          256       \n",
            "_________________________________________________________________\n",
            "max_pooling2d_2 (MaxPooling2 (None, 2, 2, 64)          0         \n",
            "_________________________________________________________________\n",
            "flatten (Flatten)            (None, 256)               0         \n",
            "_________________________________________________________________\n",
            "dense (Dense)                (None, 512)               131584    \n",
            "_________________________________________________________________\n",
            "batch_normalization_3 (Batch (None, 512)               2048      \n",
            "_________________________________________________________________\n",
            "dense_1 (Dense)              (None, 10)                5130      \n",
            "=================================================================\n",
            "Total params: 195,722\n",
            "Trainable params: 194,378\n",
            "Non-trainable params: 1,344\n",
            "_________________________________________________________________\n"
          ],
          "name": "stdout"
        }
      ]
    },
    {
      "cell_type": "markdown",
      "metadata": {
        "id": "c5NHL4cFUaZa"
      },
      "source": [
        "Ex5"
      ]
    },
    {
      "cell_type": "code",
      "metadata": {
        "id": "MbZLCgiHUbuf"
      },
      "source": [
        "from keras.callbacks import  ModelCheckpoint\n",
        "from keras.callbacks import EarlyStopping\n",
        "from keras.models import load_model"
      ],
      "execution_count": null,
      "outputs": []
    },
    {
      "cell_type": "code",
      "metadata": {
        "id": "vwMKHQcbW9cj"
      },
      "source": [
        "es = EarlyStopping(monitor='val_accuracy', mode='auto', verbose=0,patience=50)\n",
        "mc = ModelCheckpoint('best_model.h5', monitor='val_accuracy', mode='max', verbose=1, save_best_only=True)\n",
        "net1.compile(optimizer='adam', loss ='sparse_categorical_crossentropy', metrics = ['accuracy'])\n"
      ],
      "execution_count": null,
      "outputs": []
    },
    {
      "cell_type": "code",
      "metadata": {
        "colab": {
          "base_uri": "https://localhost:8080/"
        },
        "id": "7Lg6B-YGX37L",
        "outputId": "e815bebf-4b91-43ae-b2ae-3533dbbbb615"
      },
      "source": [
        "history = net1.fit(X_train, y_train, validation_split=0.2, epochs=30,batch_size=200, verbose=0,callbacks=[es, mc])\n",
        "saved_model = load_model('best_model.h5')\n"
      ],
      "execution_count": null,
      "outputs": [
        {
          "output_type": "stream",
          "text": [
            "\n",
            "Epoch 00001: val_accuracy improved from -inf to 0.11420, saving model to best_model.h5\n",
            "\n",
            "Epoch 00002: val_accuracy improved from 0.11420 to 0.34040, saving model to best_model.h5\n",
            "\n",
            "Epoch 00003: val_accuracy improved from 0.34040 to 0.58580, saving model to best_model.h5\n",
            "\n",
            "Epoch 00004: val_accuracy improved from 0.58580 to 0.67100, saving model to best_model.h5\n",
            "\n",
            "Epoch 00005: val_accuracy did not improve from 0.67100\n",
            "\n",
            "Epoch 00006: val_accuracy did not improve from 0.67100\n",
            "\n",
            "Epoch 00007: val_accuracy did not improve from 0.67100\n",
            "\n",
            "Epoch 00008: val_accuracy improved from 0.67100 to 0.69170, saving model to best_model.h5\n",
            "\n",
            "Epoch 00009: val_accuracy did not improve from 0.69170\n",
            "\n",
            "Epoch 00010: val_accuracy did not improve from 0.69170\n",
            "\n",
            "Epoch 00011: val_accuracy did not improve from 0.69170\n",
            "\n",
            "Epoch 00012: val_accuracy did not improve from 0.69170\n",
            "\n",
            "Epoch 00013: val_accuracy did not improve from 0.69170\n",
            "\n",
            "Epoch 00014: val_accuracy improved from 0.69170 to 0.69540, saving model to best_model.h5\n",
            "\n",
            "Epoch 00015: val_accuracy did not improve from 0.69540\n",
            "\n",
            "Epoch 00016: val_accuracy did not improve from 0.69540\n",
            "\n",
            "Epoch 00017: val_accuracy did not improve from 0.69540\n",
            "\n",
            "Epoch 00018: val_accuracy did not improve from 0.69540\n",
            "\n",
            "Epoch 00019: val_accuracy did not improve from 0.69540\n",
            "\n",
            "Epoch 00020: val_accuracy did not improve from 0.69540\n",
            "\n",
            "Epoch 00021: val_accuracy did not improve from 0.69540\n",
            "\n",
            "Epoch 00022: val_accuracy improved from 0.69540 to 0.70060, saving model to best_model.h5\n",
            "\n",
            "Epoch 00023: val_accuracy did not improve from 0.70060\n",
            "\n",
            "Epoch 00024: val_accuracy did not improve from 0.70060\n",
            "\n",
            "Epoch 00025: val_accuracy did not improve from 0.70060\n",
            "\n",
            "Epoch 00026: val_accuracy did not improve from 0.70060\n",
            "\n",
            "Epoch 00027: val_accuracy did not improve from 0.70060\n",
            "\n",
            "Epoch 00028: val_accuracy did not improve from 0.70060\n",
            "\n",
            "Epoch 00029: val_accuracy did not improve from 0.70060\n",
            "\n",
            "Epoch 00030: val_accuracy did not improve from 0.70060\n"
          ],
          "name": "stdout"
        }
      ]
    },
    {
      "cell_type": "markdown",
      "metadata": {
        "id": "JI8JqDWQi3yB"
      },
      "source": [
        "Ex 7"
      ]
    },
    {
      "cell_type": "code",
      "metadata": {
        "id": "PTuYw2xqOgUG",
        "colab": {
          "base_uri": "https://localhost:8080/"
        },
        "outputId": "363d28a4-9b02-4adb-fdad-3304c71e2030"
      },
      "source": [
        "print('The 2nd model evaluation on the test set :\\n Loss : {}\\n Accuracy : {}'.\n",
        "      format(net1.evaluate(X_test, y_test, verbose=2)[0], \n",
        "             net1.evaluate(X_test, y_test, verbose=2)[1]))"
      ],
      "execution_count": null,
      "outputs": [
        {
          "output_type": "stream",
          "text": [
            "313/313 - 1s - loss: 2.0041 - accuracy: 0.6758\n",
            "313/313 - 1s - loss: 2.0041 - accuracy: 0.6758\n",
            "The 2nd model evaluation on the test set :\n",
            " Loss : 2.0040924549102783\n",
            " Accuracy : 0.6758000254631042\n"
          ],
          "name": "stdout"
        }
      ]
    },
    {
      "cell_type": "code",
      "metadata": {
        "id": "ZPnHpVK5OgYH",
        "colab": {
          "base_uri": "https://localhost:8080/"
        },
        "outputId": "7d90124a-0911-45ad-9c13-6cdf2f8c40bb"
      },
      "source": [
        "tess_loss,test_accuracy =saved_model.evaluate(X_test,y_test,verbose=2)"
      ],
      "execution_count": null,
      "outputs": [
        {
          "output_type": "stream",
          "text": [
            "313/313 - 1s - loss: 1.5572 - accuracy: 0.6857\n"
          ],
          "name": "stdout"
        }
      ]
    },
    {
      "cell_type": "markdown",
      "metadata": {
        "id": "BScz1ZonjAxy"
      },
      "source": [
        "Ex 8"
      ]
    },
    {
      "cell_type": "code",
      "metadata": {
        "id": "qyKYBoK1OgbT",
        "colab": {
          "base_uri": "https://localhost:8080/"
        },
        "outputId": "786bfd22-7cf9-4de3-a759-31b5cdd42991"
      },
      "source": [
        "print('The first image label is {} and the predicted label by the 1st model is {}'.\n",
        "      format(y_test[0][0], \n",
        "             np.argmax(net1.predict(X_test[0].reshape(-1,32,32,3)))))"
      ],
      "execution_count": null,
      "outputs": [
        {
          "output_type": "stream",
          "text": [
            "The first image label is 3 and the predicted label by the 1st model is 3\n"
          ],
          "name": "stdout"
        }
      ]
    },
    {
      "cell_type": "markdown",
      "metadata": {
        "id": "_HeXa8S4jICG"
      },
      "source": [
        "Ex 9 et 10"
      ]
    },
    {
      "cell_type": "code",
      "metadata": {
        "id": "iuIHFdjSOgfk",
        "colab": {
          "base_uri": "https://localhost:8080/",
          "height": 280
        },
        "outputId": "fefa4d95-f330-4ee7-ff1f-eec339864106"
      },
      "source": [
        "plt.figure(figsize=(15,4))\n",
        "plt.subplot(121)\n",
        "plt.plot(history.history['accuracy'], label='Training set acc')\n",
        "plt.plot(history.history['val_accuracy'], label='Validation set acc')\n",
        "plt.title('Accuracy curve according to epochs')\n",
        "plt.legend(loc=9)\n",
        "\n",
        "plt.subplot(122)\n",
        "plt.plot(history.history['loss'], label='Training set loss')\n",
        "plt.plot(history.history['val_loss'], label='Validation set loss')\n",
        "plt.title('Loss curve according to epochs')\n",
        "plt.legend(loc=9)\n",
        "plt.show()"
      ],
      "execution_count": null,
      "outputs": [
        {
          "output_type": "display_data",
          "data": {
            "image/png": "[encoded data removed]",
            "text/plain": [
              "<Figure size 1080x288 with 2 Axes>"
            ]
          },
          "metadata": {
            "tags": [],
            "needs_background": "light"
          }
        }
      ]
    },
    {
      "cell_type": "markdown",
      "metadata": {
        "id": "ZpN-w4j_-ddJ"
      },
      "source": [
        "As we can see, our model is slightly overfitting : Around the 3rd epoch, the validation set accuracy and loss seems to stay stable and does not really change, while the training accuracy keeps improve and loss keeps decrease. "
      ]
    },
    {
      "cell_type": "markdown",
      "metadata": {
        "id": "gSXM8cFG9nfg"
      },
      "source": [
        "Another CNN model with a different disposition of layers :\n",
        "CNV − CONV − POOL − CONV − POOL − FC − FC"
      ]
    },
    {
      "cell_type": "code",
      "metadata": {
        "id": "9C2AkBuW9Tww"
      },
      "source": [
        "net2 = Sequential([Conv2D(filters=32, kernel_size=5, input_shape = (32,32,3), activation='relu'),\n",
        "                   BatchNormalization(),\n",
        "                   Conv2D(filters=64, kernel_size=5, input_shape = (32,32,3), activation='relu'),\n",
        "                   BatchNormalization(),\n",
        "                   MaxPooling2D(pool_size=(2,2), strides=2),\n",
        "                   Conv2D(filters=64, kernel_size=5, activation='relu'),\n",
        "                   BatchNormalization(),\n",
        "                   MaxPooling2D(pool_size=(2,2), strides=2),\n",
        "                   Flatten(),\n",
        "                   Dense(512, activation='relu'),\n",
        "                   BatchNormalization(),\n",
        "                   Dense(10, activation='softmax')\n",
        "                   ])"
      ],
      "execution_count": null,
      "outputs": []
    },
    {
      "cell_type": "code",
      "metadata": {
        "colab": {
          "base_uri": "https://localhost:8080/"
        },
        "id": "7m9D3svG9r7-",
        "outputId": "c241a026-444a-4970-9378-5fc3beba1a5d"
      },
      "source": [
        "net2.summary()"
      ],
      "execution_count": null,
      "outputs": [
        {
          "output_type": "stream",
          "text": [
            "Model: \"sequential_3\"\n",
            "_________________________________________________________________\n",
            "Layer (type)                 Output Shape              Param #   \n",
            "=================================================================\n",
            "conv2d_13 (Conv2D)           (None, 28, 28, 32)        2432      \n",
            "_________________________________________________________________\n",
            "batch_normalization_8 (Batch (None, 28, 28, 32)        128       \n",
            "_________________________________________________________________\n",
            "conv2d_14 (Conv2D)           (None, 24, 24, 64)        51264     \n",
            "_________________________________________________________________\n",
            "batch_normalization_9 (Batch (None, 24, 24, 64)        256       \n",
            "_________________________________________________________________\n",
            "max_pooling2d_8 (MaxPooling2 (None, 12, 12, 64)        0         \n",
            "_________________________________________________________________\n",
            "conv2d_15 (Conv2D)           (None, 8, 8, 64)          102464    \n",
            "_________________________________________________________________\n",
            "batch_normalization_10 (Batc (None, 8, 8, 64)          256       \n",
            "_________________________________________________________________\n",
            "max_pooling2d_9 (MaxPooling2 (None, 4, 4, 64)          0         \n",
            "_________________________________________________________________\n",
            "flatten_3 (Flatten)          (None, 1024)              0         \n",
            "_________________________________________________________________\n",
            "dense_8 (Dense)              (None, 512)               524800    \n",
            "_________________________________________________________________\n",
            "batch_normalization_11 (Batc (None, 512)               2048      \n",
            "_________________________________________________________________\n",
            "dense_9 (Dense)              (None, 10)                5130      \n",
            "=================================================================\n",
            "Total params: 688,778\n",
            "Trainable params: 687,434\n",
            "Non-trainable params: 1,344\n",
            "_________________________________________________________________\n"
          ],
          "name": "stdout"
        }
      ]
    },
    {
      "cell_type": "code",
      "metadata": {
        "id": "Pj3YKdH69T2q"
      },
      "source": [
        "net2.compile(optimizer='adam', loss='sparse_categorical_crossentropy', metrics=['accuracy'])"
      ],
      "execution_count": null,
      "outputs": []
    },
    {
      "cell_type": "code",
      "metadata": {
        "id": "PRZGzYdM-UqS"
      },
      "source": [
        "es = EarlyStopping(monitor='val_accuracy', mode='auto', verbose=0,patience=50)\n",
        "mc = ModelCheckpoint('best_model2.h5', monitor='val_accuracy', mode='max', verbose=1, save_best_only=True)"
      ],
      "execution_count": null,
      "outputs": []
    },
    {
      "cell_type": "code",
      "metadata": {
        "colab": {
          "base_uri": "https://localhost:8080/"
        },
        "id": "hzvo4C0p9T8I",
        "outputId": "1aaf0b12-4dba-478f-f246-8f546627c213"
      },
      "source": [
        "history = net2.fit(X_train, y_train, validation_split=0.2, epochs=25,batch_size=200, verbose=0,callbacks=[es, mc])\n",
        "saved_model2 = load_model('best_model2.h5')"
      ],
      "execution_count": null,
      "outputs": [
        {
          "output_type": "stream",
          "text": [
            "\n",
            "Epoch 00001: val_accuracy improved from -inf to 0.16630, saving model to best_model2.h5\n",
            "\n",
            "Epoch 00002: val_accuracy improved from 0.16630 to 0.29010, saving model to best_model2.h5\n",
            "\n",
            "Epoch 00003: val_accuracy improved from 0.29010 to 0.56880, saving model to best_model2.h5\n",
            "\n",
            "Epoch 00004: val_accuracy improved from 0.56880 to 0.64370, saving model to best_model2.h5\n",
            "\n",
            "Epoch 00005: val_accuracy improved from 0.64370 to 0.67330, saving model to best_model2.h5\n",
            "\n",
            "Epoch 00006: val_accuracy did not improve from 0.67330\n",
            "\n",
            "Epoch 00007: val_accuracy improved from 0.67330 to 0.68400, saving model to best_model2.h5\n",
            "\n",
            "Epoch 00008: val_accuracy improved from 0.68400 to 0.71690, saving model to best_model2.h5\n",
            "\n",
            "Epoch 00009: val_accuracy improved from 0.71690 to 0.72070, saving model to best_model2.h5\n",
            "\n",
            "Epoch 00010: val_accuracy did not improve from 0.72070\n",
            "\n",
            "Epoch 00011: val_accuracy did not improve from 0.72070\n",
            "\n",
            "Epoch 00012: val_accuracy did not improve from 0.72070\n",
            "\n",
            "Epoch 00013: val_accuracy did not improve from 0.72070\n",
            "\n",
            "Epoch 00014: val_accuracy did not improve from 0.72070\n",
            "\n",
            "Epoch 00015: val_accuracy did not improve from 0.72070\n",
            "\n",
            "Epoch 00016: val_accuracy did not improve from 0.72070\n",
            "\n",
            "Epoch 00017: val_accuracy did not improve from 0.72070\n",
            "\n",
            "Epoch 00018: val_accuracy did not improve from 0.72070\n",
            "\n",
            "Epoch 00019: val_accuracy improved from 0.72070 to 0.73200, saving model to best_model2.h5\n",
            "\n",
            "Epoch 00020: val_accuracy improved from 0.73200 to 0.74510, saving model to best_model2.h5\n",
            "\n",
            "Epoch 00021: val_accuracy improved from 0.74510 to 0.74650, saving model to best_model2.h5\n",
            "\n",
            "Epoch 00022: val_accuracy improved from 0.74650 to 0.75090, saving model to best_model2.h5\n",
            "\n",
            "Epoch 00023: val_accuracy did not improve from 0.75090\n",
            "\n",
            "Epoch 00024: val_accuracy improved from 0.75090 to 0.75200, saving model to best_model2.h5\n",
            "\n",
            "Epoch 00025: val_accuracy did not improve from 0.75200\n"
          ],
          "name": "stdout"
        }
      ]
    },
    {
      "cell_type": "code",
      "metadata": {
        "colab": {
          "base_uri": "https://localhost:8080/"
        },
        "id": "_w3EM5a-9UB7",
        "outputId": "8f951abe-87dc-472b-b663-457d2a0e2f77"
      },
      "source": [
        "print('The first image label is {} and the predicted label by the 2nd model is {}'.\n",
        "      format(y_test[1][0], \n",
        "             np.argmax(net2.predict(X_test[1].reshape(-1,32,32,3)))))"
      ],
      "execution_count": null,
      "outputs": [
        {
          "output_type": "stream",
          "text": [
            "The first image label is 8 and the predicted label by the 2nd model is 8\n"
          ],
          "name": "stdout"
        }
      ]
    },
    {
      "cell_type": "code",
      "metadata": {
        "colab": {
          "base_uri": "https://localhost:8080/"
        },
        "id": "8UiDgtBW_jFJ",
        "outputId": "89a3f93a-7654-4015-e73e-49b37a3b61ed"
      },
      "source": [
        "tess_loss,test_accuracy =saved_model2.evaluate(X_test,y_test,verbose=2)"
      ],
      "execution_count": null,
      "outputs": [
        {
          "output_type": "stream",
          "text": [
            "313/313 - 1s - loss: 1.3040 - accuracy: 0.7487\n"
          ],
          "name": "stdout"
        }
      ]
    },
    {
      "cell_type": "code",
      "metadata": {
        "colab": {
          "base_uri": "https://localhost:8080/",
          "height": 280
        },
        "id": "b4QP-e9p9UHT",
        "outputId": "93d89103-0883-4090-c9f8-fb9579c6c994"
      },
      "source": [
        "plt.figure(figsize=(15,4))\n",
        "plt.subplot(121)\n",
        "plt.plot(history.history['accuracy'], label='Training set acc')\n",
        "plt.plot(history.history['val_accuracy'], label='Validation set acc')\n",
        "plt.title('Accuracy curve according to epochs')\n",
        "plt.legend(loc=9)\n",
        "\n",
        "plt.subplot(122)\n",
        "plt.plot(history.history['loss'], label='Training set loss')\n",
        "plt.plot(history.history['val_loss'], label='Validation set loss')\n",
        "plt.title('Loss curve according to epochs')\n",
        "plt.legend(loc=9)\n",
        "\n",
        "plt.show()"
      ],
      "execution_count": null,
      "outputs": [
        {
          "output_type": "display_data",
          "data": {
            "image/png": "[encoded data removed]",
            "text/plain": [
              "<Figure size 1080x288 with 2 Axes>"
            ]
          },
          "metadata": {
            "tags": [],
            "needs_background": "light"
          }
        }
      ]
    },
    {
      "cell_type": "markdown",
      "metadata": {
        "id": "0EJs3Oeu-Y3G"
      },
      "source": [
        "As there is random in neural network conception, the epoch from wihch the model starts overfitting change. But we can tell from the plots this smaller model seems to more overfits than the first one : On the loss plot, we can see that the validation curve slightly decreases and then rises again."
      ]
    },
    {
      "cell_type": "markdown",
      "metadata": {
        "id": "JJ2Exph4_FyI"
      },
      "source": [
        "## Third CCN model \n",
        "CONV −CONV −POOL−CONV −POOL−CONV −CONV −CONV −POOL−FC−FC−FC"
      ]
    },
    {
      "cell_type": "code",
      "metadata": {
        "id": "WfYgkz6Y_EmX"
      },
      "source": [
        "net3 = Sequential([Conv2D(filters=96, kernel_size=3, input_shape = (32,32,3), activation='relu', strides=1),\n",
        "                   Conv2D(filters=96, kernel_size=3, activation='relu', strides=1),\n",
        "                   MaxPooling2D(pool_size=(2,2), strides=2),\n",
        "                   Dropout(rate=0.5),\n",
        "\n",
        "                   Conv2D(filters=128, kernel_size=3, activation='relu', strides=1),\n",
        "                   MaxPooling2D(pool_size=(2,2), strides=2),\n",
        "                   Dropout(rate=0.5),\n",
        "\n",
        "                   Conv2D(filters=128, kernel_size=3, activation='relu', strides=1),\n",
        "                   Conv2D(filters=128, kernel_size=3, activation='relu', strides=1),\n",
        "                   ])"
      ],
      "execution_count": null,
      "outputs": []
    },
    {
      "cell_type": "code",
      "metadata": {
        "colab": {
          "base_uri": "https://localhost:8080/"
        },
        "id": "HZDjhacE_Eqz",
        "outputId": "56f06444-cb56-47d0-f6e1-e217fa039bdd"
      },
      "source": [
        "net3.summary()"
      ],
      "execution_count": null,
      "outputs": [
        {
          "output_type": "stream",
          "text": [
            "Model: \"sequential_4\"\n",
            "_________________________________________________________________\n",
            "Layer (type)                 Output Shape              Param #   \n",
            "=================================================================\n",
            "conv2d_16 (Conv2D)           (None, 30, 30, 96)        2688      \n",
            "_________________________________________________________________\n",
            "conv2d_17 (Conv2D)           (None, 28, 28, 96)        83040     \n",
            "_________________________________________________________________\n",
            "max_pooling2d_10 (MaxPooling (None, 14, 14, 96)        0         \n",
            "_________________________________________________________________\n",
            "dropout (Dropout)            (None, 14, 14, 96)        0         \n",
            "_________________________________________________________________\n",
            "conv2d_18 (Conv2D)           (None, 12, 12, 128)       110720    \n",
            "_________________________________________________________________\n",
            "max_pooling2d_11 (MaxPooling (None, 6, 6, 128)         0         \n",
            "_________________________________________________________________\n",
            "dropout_1 (Dropout)          (None, 6, 6, 128)         0         \n",
            "_________________________________________________________________\n",
            "conv2d_19 (Conv2D)           (None, 4, 4, 128)         147584    \n",
            "_________________________________________________________________\n",
            "conv2d_20 (Conv2D)           (None, 2, 2, 128)         147584    \n",
            "=================================================================\n",
            "Total params: 491,616\n",
            "Trainable params: 491,616\n",
            "Non-trainable params: 0\n",
            "_________________________________________________________________\n"
          ],
          "name": "stdout"
        }
      ]
    },
    {
      "cell_type": "code",
      "metadata": {
        "id": "ydnzVgiB_Eu4"
      },
      "source": [
        "net3 = Sequential([Conv2D(filters=96, kernel_size=3, input_shape = (32,32,3), activation='relu', strides=1, padding='same'),\n",
        "                   BatchNormalization(),                   \n",
        "                   Conv2D(filters=96, kernel_size=3, activation='relu', strides=1, padding='same'),\n",
        "                   BatchNormalization(),\n",
        "                   MaxPooling2D(pool_size=(2,2), strides=2),\n",
        "                   Dropout(rate=0.5),\n",
        "\n",
        "                   Conv2D(filters=128, kernel_size=3, activation='relu', strides=1, padding='same'),\n",
        "                   BatchNormalization(),\n",
        "                   MaxPooling2D(pool_size=(2,2), strides=2),\n",
        "                   Dropout(rate=0.5),\n",
        "\n",
        "                   Conv2D(filters=128, kernel_size=3, activation='relu', strides=1, padding='same'),\n",
        "                   BatchNormalization(),\n",
        "                   Conv2D(filters=128, kernel_size=3, activation='relu', strides=1, padding='same'),\n",
        "                   BatchNormalization(),\n",
        "                   Conv2D(filters=128, kernel_size=3, activation='relu', strides=1, padding='same'),\n",
        "                   BatchNormalization(),\n",
        "                   MaxPooling2D(pool_size=(2,2), strides=2),\n",
        "                   Dropout(rate=0.5),\n",
        "                   \n",
        "                   Flatten(),\n",
        "                   Dense(1024, activation='relu', kernel_regularizer=l2(0.0005)),\n",
        "                   Dropout(rate=0.5),\n",
        "                   Dense(512, activation='relu', kernel_regularizer=l2(0.0005)),\n",
        "                   Dropout(rate=0.5),\n",
        "                   Dense(10, activation='softmax', kernel_regularizer=l2(0.0005))\n",
        "\n",
        "                   ])"
      ],
      "execution_count": null,
      "outputs": []
    },
    {
      "cell_type": "code",
      "metadata": {
        "colab": {
          "base_uri": "https://localhost:8080/"
        },
        "id": "Au4Kd9m2_Eyn",
        "outputId": "8713930a-12b1-4509-886d-1982991e010a"
      },
      "source": [
        "net3.summary()"
      ],
      "execution_count": null,
      "outputs": [
        {
          "output_type": "stream",
          "text": [
            "Model: \"sequential_6\"\n",
            "_________________________________________________________________\n",
            "Layer (type)                 Output Shape              Param #   \n",
            "=================================================================\n",
            "conv2d_27 (Conv2D)           (None, 32, 32, 96)        2688      \n",
            "_________________________________________________________________\n",
            "batch_normalization_20 (Batc (None, 32, 32, 96)        384       \n",
            "_________________________________________________________________\n",
            "conv2d_28 (Conv2D)           (None, 32, 32, 96)        83040     \n",
            "_________________________________________________________________\n",
            "batch_normalization_21 (Batc (None, 32, 32, 96)        384       \n",
            "_________________________________________________________________\n",
            "max_pooling2d_15 (MaxPooling (None, 16, 16, 96)        0         \n",
            "_________________________________________________________________\n",
            "dropout_7 (Dropout)          (None, 16, 16, 96)        0         \n",
            "_________________________________________________________________\n",
            "conv2d_29 (Conv2D)           (None, 16, 16, 128)       110720    \n",
            "_________________________________________________________________\n",
            "batch_normalization_22 (Batc (None, 16, 16, 128)       512       \n",
            "_________________________________________________________________\n",
            "max_pooling2d_16 (MaxPooling (None, 8, 8, 128)         0         \n",
            "_________________________________________________________________\n",
            "dropout_8 (Dropout)          (None, 8, 8, 128)         0         \n",
            "_________________________________________________________________\n",
            "conv2d_30 (Conv2D)           (None, 8, 8, 128)         147584    \n",
            "_________________________________________________________________\n",
            "batch_normalization_23 (Batc (None, 8, 8, 128)         512       \n",
            "_________________________________________________________________\n",
            "conv2d_31 (Conv2D)           (None, 8, 8, 128)         147584    \n",
            "_________________________________________________________________\n",
            "batch_normalization_24 (Batc (None, 8, 8, 128)         512       \n",
            "_________________________________________________________________\n",
            "conv2d_32 (Conv2D)           (None, 8, 8, 128)         147584    \n",
            "_________________________________________________________________\n",
            "batch_normalization_25 (Batc (None, 8, 8, 128)         512       \n",
            "_________________________________________________________________\n",
            "max_pooling2d_17 (MaxPooling (None, 4, 4, 128)         0         \n",
            "_________________________________________________________________\n",
            "dropout_9 (Dropout)          (None, 4, 4, 128)         0         \n",
            "_________________________________________________________________\n",
            "flatten_5 (Flatten)          (None, 2048)              0         \n",
            "_________________________________________________________________\n",
            "dense_13 (Dense)             (None, 1024)              2098176   \n",
            "_________________________________________________________________\n",
            "dropout_10 (Dropout)         (None, 1024)              0         \n",
            "_________________________________________________________________\n",
            "dense_14 (Dense)             (None, 512)               524800    \n",
            "_________________________________________________________________\n",
            "dropout_11 (Dropout)         (None, 512)               0         \n",
            "_________________________________________________________________\n",
            "dense_15 (Dense)             (None, 10)                5130      \n",
            "=================================================================\n",
            "Total params: 3,270,122\n",
            "Trainable params: 3,268,714\n",
            "Non-trainable params: 1,408\n",
            "_________________________________________________________________\n"
          ],
          "name": "stdout"
        }
      ]
    },
    {
      "cell_type": "code",
      "metadata": {
        "id": "OzWSngC3_E1q"
      },
      "source": [
        "net3.compile(optimizer='adam', loss='sparse_categorical_crossentropy', metrics=['accuracy'])"
      ],
      "execution_count": null,
      "outputs": []
    },
    {
      "cell_type": "code",
      "metadata": {
        "id": "sKUy19HQ_E4O"
      },
      "source": [
        "es = EarlyStopping(monitor='val_accuracy', mode='auto', verbose=0,patience=50)\n",
        "mc = ModelCheckpoint('best_model3.h5', monitor='val_accuracy', mode='max', verbose=1, save_best_only=True)"
      ],
      "execution_count": null,
      "outputs": []
    },
    {
      "cell_type": "code",
      "metadata": {
        "colab": {
          "base_uri": "https://localhost:8080/"
        },
        "id": "Kzh8EBsf_E-x",
        "outputId": "29a9712d-e987-4c77-ae61-a41bd66a13e3"
      },
      "source": [
        "history3 = net3.fit(X_train, y_train, validation_split=0.2, epochs=25,batch_size=200, verbose=0,callbacks=[es, mc])\n",
        "saved_model3= load_model('best_model3.h5')"
      ],
      "execution_count": null,
      "outputs": [
        {
          "output_type": "stream",
          "text": [
            "\n",
            "Epoch 00001: val_accuracy improved from -inf to 0.09520, saving model to best_model3.h5\n",
            "\n",
            "Epoch 00002: val_accuracy improved from 0.09520 to 0.15340, saving model to best_model3.h5\n",
            "\n",
            "Epoch 00003: val_accuracy improved from 0.15340 to 0.23610, saving model to best_model3.h5\n",
            "\n",
            "Epoch 00004: val_accuracy improved from 0.23610 to 0.57430, saving model to best_model3.h5\n",
            "\n",
            "Epoch 00005: val_accuracy improved from 0.57430 to 0.58830, saving model to best_model3.h5\n",
            "\n",
            "Epoch 00006: val_accuracy improved from 0.58830 to 0.59680, saving model to best_model3.h5\n",
            "\n",
            "Epoch 00007: val_accuracy improved from 0.59680 to 0.63100, saving model to best_model3.h5\n",
            "\n",
            "Epoch 00008: val_accuracy improved from 0.63100 to 0.69180, saving model to best_model3.h5\n",
            "\n",
            "Epoch 00009: val_accuracy improved from 0.69180 to 0.76250, saving model to best_model3.h5\n",
            "\n",
            "Epoch 00010: val_accuracy did not improve from 0.76250\n",
            "\n",
            "Epoch 00011: val_accuracy improved from 0.76250 to 0.77330, saving model to best_model3.h5\n",
            "\n",
            "Epoch 00012: val_accuracy did not improve from 0.77330\n",
            "\n",
            "Epoch 00013: val_accuracy improved from 0.77330 to 0.79210, saving model to best_model3.h5\n",
            "\n",
            "Epoch 00014: val_accuracy did not improve from 0.79210\n",
            "\n",
            "Epoch 00015: val_accuracy improved from 0.79210 to 0.79880, saving model to best_model3.h5\n",
            "\n",
            "Epoch 00016: val_accuracy did not improve from 0.79880\n",
            "\n",
            "Epoch 00017: val_accuracy improved from 0.79880 to 0.80510, saving model to best_model3.h5\n",
            "\n",
            "Epoch 00018: val_accuracy improved from 0.80510 to 0.81120, saving model to best_model3.h5\n",
            "\n",
            "Epoch 00019: val_accuracy did not improve from 0.81120\n",
            "\n",
            "Epoch 00020: val_accuracy did not improve from 0.81120\n",
            "\n",
            "Epoch 00021: val_accuracy improved from 0.81120 to 0.82760, saving model to best_model3.h5\n",
            "\n",
            "Epoch 00022: val_accuracy did not improve from 0.82760\n",
            "\n",
            "Epoch 00023: val_accuracy did not improve from 0.82760\n",
            "\n",
            "Epoch 00024: val_accuracy did not improve from 0.82760\n",
            "\n",
            "Epoch 00025: val_accuracy did not improve from 0.82760\n"
          ],
          "name": "stdout"
        }
      ]
    },
    {
      "cell_type": "code",
      "metadata": {
        "colab": {
          "base_uri": "https://localhost:8080/"
        },
        "id": "CvxobAWB_FDG",
        "outputId": "4d1341c4-c9e3-4bcb-93eb-a54b9feddd2e"
      },
      "source": [
        "print('The 3rd model evaluation on the test set :\\n Loss : {}\\n Accuracy : {}'.\n",
        "      format(net3.evaluate(X_test, y_test, verbose=0)[0], \n",
        "             net3.evaluate(X_test, y_test, verbose=0)[1]))"
      ],
      "execution_count": null,
      "outputs": [
        {
          "output_type": "stream",
          "text": [
            "The 3rd model evaluation on the test set :\n",
            " Loss : 0.8970509767532349\n",
            " Accuracy : 0.7983999848365784\n"
          ],
          "name": "stdout"
        }
      ]
    },
    {
      "cell_type": "code",
      "metadata": {
        "colab": {
          "base_uri": "https://localhost:8080/"
        },
        "id": "SCAGM7X0BEWN",
        "outputId": "80e25cce-3f98-494d-dfe9-80d41e036efc"
      },
      "source": [
        "tess_loss,test_accuracy =saved_model3.evaluate(X_test,y_test,verbose=2)"
      ],
      "execution_count": null,
      "outputs": [
        {
          "output_type": "stream",
          "text": [
            "313/313 - 2s - loss: 0.8349 - accuracy: 0.8243\n"
          ],
          "name": "stdout"
        }
      ]
    },
    {
      "cell_type": "code",
      "metadata": {
        "colab": {
          "base_uri": "https://localhost:8080/"
        },
        "id": "kAWESYkG_FHy",
        "outputId": "d3cf36b6-8fa3-4772-c35b-12f8fd43bb8d"
      },
      "source": [
        "print('The first image label is {} and the predicted label by the 3rd model is {}'.\n",
        "      format(y_test[0][0], \n",
        "             np.argmax(net3.predict(X_test[0].reshape(-1,32,32,3)))))"
      ],
      "execution_count": null,
      "outputs": [
        {
          "output_type": "stream",
          "text": [
            "The first image label is 3 and the predicted label by the 3rd model is 3\n"
          ],
          "name": "stdout"
        }
      ]
    },
    {
      "cell_type": "code",
      "metadata": {
        "colab": {
          "base_uri": "https://localhost:8080/",
          "height": 280
        },
        "id": "0TILMhgE_FMg",
        "outputId": "a9517b15-5aa8-47b0-90ac-9668d9bc67ef"
      },
      "source": [
        "plt.figure(figsize=(15,4))\n",
        "plt.subplot(121)\n",
        "plt.plot(history3.history['accuracy'], label='Training set acc')\n",
        "plt.plot(history3.history['val_accuracy'], label='Validation set acc')\n",
        "plt.title('Accuracy curve according to epochs')\n",
        "plt.legend(loc=9)\n",
        "\n",
        "plt.subplot(122)\n",
        "plt.plot(history3.history['loss'], label='Training set loss')\n",
        "plt.plot(history3.history['val_loss'], label='Validation set loss')\n",
        "plt.title('Loss curve according to epochs')\n",
        "plt.legend(loc=9)\n",
        "\n",
        "plt.show()"
      ],
      "execution_count": null,
      "outputs": [
        {
          "output_type": "display_data",
          "data": {
            "image/png": "[encoded data removed]",
            "text/plain": [
              "<Figure size 1080x288 with 2 Axes>"
            ]
          },
          "metadata": {
            "tags": [],
            "needs_background": "light"
          }
        }
      ]
    },
    {
      "cell_type": "markdown",
      "metadata": {
        "id": "KiIZzyhHBJr5"
      },
      "source": [
        "With this 3rd model, we can see we are no more doing overfitting. The validation set and the training follows the same deviation (the prediction on the validation set are even more accurate than those on the training). <br>\n",
        "However, we can see that our model seems to be a bit unstable on the validation set."
      ]
    },
    {
      "cell_type": "markdown",
      "metadata": {
        "id": "CuQg0h8n9UMa"
      },
      "source": [
        "ResNet archicture\n"
      ]
    },
    {
      "cell_type": "code",
      "metadata": {
        "id": "M2pwueo7Ogon"
      },
      "source": [
        "from tensorflow.keras import layers\n",
        "inp = tf.keras.Input(shape=(32,32,3))\n",
        "\n",
        "x = layers.Conv2D(16, (3,3),(2,2), activation='relu')(inp)\n",
        "x = layers.Conv2D(32, (3,3),(2,2), activation='relu')(x)\n",
        "block1 = layers.MaxPool2D(pool_size=(2,2))(x)\n",
        "\n",
        "x = layers.Conv2D(32, (3,3), activation='relu', padding=\"same\")(block1)\n",
        "#x = layers.Conv2D(32, (3,3), activation='relu', padding=\"same\")(x)\n",
        "block2 = layers.add([x, block1])\n",
        "\n",
        "x = layers.Conv2D(32, (3,3), activation='relu', padding=\"same\")(block2)\n",
        "#x = layers.Conv2D(32, (3,3), activation='relu', padding=\"same\")(x)\n",
        "block3 = layers.add([x, block2])\n",
        "\n",
        "x = layers.GlobalAveragePooling2D()(block3)\n",
        "x = layers.Dense(100, activation='relu')(x)\n",
        "out = layers.Dense(10, activation='softmax')(x)\n",
        "\n",
        "model = keras.Model(inputs=inp, outputs=out)\n",
        "\n",
        "model.compile(optimizer=\"adam\", loss=\"categorical_crossentropy\", metrics=[\"accuracy\"])\n"
      ],
      "execution_count": null,
      "outputs": []
    },
    {
      "cell_type": "code",
      "metadata": {
        "id": "ZCeOlnEjOgty"
      },
      "source": [
        "es = EarlyStopping(monitor='val_accuracy', mode='auto', verbose=0,patience=50)\n",
        "mc = ModelCheckpoint('best_model4.h5', monitor='val_accuracy', mode='max', verbose=1, save_best_only=True)"
      ],
      "execution_count": null,
      "outputs": []
    },
    {
      "cell_type": "code",
      "metadata": {
        "id": "wIRsk_cfaYgl"
      },
      "source": [
        ""
      ],
      "execution_count": null,
      "outputs": []
    }
  ]
}