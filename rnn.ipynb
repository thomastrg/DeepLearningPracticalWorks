{
  "nbformat": 4,
  "nbformat_minor": 0,
  "metadata": {
    "colab": {
      "name": "rnn.ipynb",
      "provenance": [],
      "collapsed_sections": [],
      "toc_visible": true
    },
    "kernelspec": {
      "name": "python3",
      "display_name": "Python 3"
    },
    "language_info": {
      "name": "python"
    },
    "accelerator": "GPU"
  },
  "cells": [
    {
      "cell_type": "markdown",
      "metadata": {
        "id": "3WzsDA6SEH4E"
      },
      "source": [
        "# Import library"
      ]
    },
    {
      "cell_type": "code",
      "metadata": {
        "id": "GeWhqRJZEBpD"
      },
      "source": [
        "import tensorflow as tf\n",
        "import numpy as np\n"
      ],
      "execution_count": 1,
      "outputs": []
    },
    {
      "cell_type": "code",
      "metadata": {
        "colab": {
          "base_uri": "https://localhost:8080/",
          "height": 34
        },
        "id": "YTv8y7LSErsv",
        "outputId": "6efa47a9-d5b1-4617-d311-48d0232fb387"
      },
      "source": [
        "tf.test.gpu_device_name()"
      ],
      "execution_count": 2,
      "outputs": [
        {
          "output_type": "execute_result",
          "data": {
            "application/vnd.google.colaboratory.intrinsic+json": {
              "type": "string"
            },
            "text/plain": [
              "'/device:GPU:0'"
            ]
          },
          "metadata": {
            "tags": []
          },
          "execution_count": 2
        }
      ]
    },
    {
      "cell_type": "code",
      "metadata": {
        "id": "uMC4AICAEvlh"
      },
      "source": [
        "import pandas as pd\n",
        "import matplotlib.pyplot as plt"
      ],
      "execution_count": 3,
      "outputs": []
    },
    {
      "cell_type": "markdown",
      "metadata": {
        "id": "rHgPbv_cGDy4"
      },
      "source": [
        "# Import dataset"
      ]
    },
    {
      "cell_type": "code",
      "metadata": {
        "colab": {
          "base_uri": "https://localhost:8080/"
        },
        "id": "-uUjv5X4Jodr",
        "outputId": "7744ac7a-f8f4-49d3-a6b9-82e95233d719"
      },
      "source": [
        "df =  pd.read_csv('./data.csv', header=0,error_bad_lines=False)\n",
        "print(df)"
      ],
      "execution_count": 4,
      "outputs": [
        {
          "output_type": "stream",
          "text": [
            "                       date symbol  ...        high     volume\n",
            "0       2016-01-05 00:00:00   WLTW  ...  126.250000  2163600.0\n",
            "1       2016-01-06 00:00:00   WLTW  ...  125.540001  2386400.0\n",
            "2       2016-01-07 00:00:00   WLTW  ...  119.739998  2489500.0\n",
            "3       2016-01-08 00:00:00   WLTW  ...  117.440002  2006300.0\n",
            "4       2016-01-11 00:00:00   WLTW  ...  117.330002  1408600.0\n",
            "...                     ...    ...  ...         ...        ...\n",
            "851259           2016-12-30    ZBH  ...  103.930000   973800.0\n",
            "851260           2016-12-30   ZION  ...   43.310001  1938100.0\n",
            "851261           2016-12-30    ZTS  ...   53.740002  1701200.0\n",
            "851262  2016-12-30 00:00:00    AIV  ...   45.590000  1380900.0\n",
            "851263  2016-12-30 00:00:00    FTV  ...   54.480000   705100.0\n",
            "\n",
            "[851264 rows x 7 columns]\n"
          ],
          "name": "stdout"
        }
      ]
    },
    {
      "cell_type": "code",
      "metadata": {
        "colab": {
          "base_uri": "https://localhost:8080/"
        },
        "id": "osb9miFEJydj",
        "outputId": "e29c6443-6a0e-4c3d-a341-62410d2df71c"
      },
      "source": [
        "df.columns"
      ],
      "execution_count": 5,
      "outputs": [
        {
          "output_type": "execute_result",
          "data": {
            "text/plain": [
              "Index(['date', 'symbol', 'open', 'close', 'low', 'high', 'volume'], dtype='object')"
            ]
          },
          "metadata": {
            "tags": []
          },
          "execution_count": 5
        }
      ]
    },
    {
      "cell_type": "code",
      "metadata": {
        "colab": {
          "base_uri": "https://localhost:8080/"
        },
        "id": "EXyx38snKWbZ",
        "outputId": "9a8dd3dd-0b7e-4232-94f5-67ed75836c44"
      },
      "source": [
        "df.shape"
      ],
      "execution_count": 6,
      "outputs": [
        {
          "output_type": "execute_result",
          "data": {
            "text/plain": [
              "(851264, 7)"
            ]
          },
          "metadata": {
            "tags": []
          },
          "execution_count": 6
        }
      ]
    },
    {
      "cell_type": "markdown",
      "metadata": {
        "id": "74SOLpuVK4OB"
      },
      "source": [
        "Concentrate on Yahoo company "
      ]
    },
    {
      "cell_type": "code",
      "metadata": {
        "id": "b4FhKxC0KZAI"
      },
      "source": [
        "yahoo = df[df['symbol']=='YHOO']"
      ],
      "execution_count": 7,
      "outputs": []
    },
    {
      "cell_type": "code",
      "metadata": {
        "colab": {
          "base_uri": "https://localhost:8080/"
        },
        "id": "6VOjYb4RDt20",
        "outputId": "d623f9dd-fc6c-43f2-8edc-3218e4a6c319"
      },
      "source": [
        "df['symbol'].unique()"
      ],
      "execution_count": 8,
      "outputs": [
        {
          "output_type": "execute_result",
          "data": {
            "text/plain": [
              "array(['WLTW', 'A', 'AAL', 'AAP', 'AAPL', 'ABC', 'ABT', 'ACN', 'ADBE',\n",
              "       'ADI', 'ADM', 'ADP', 'ADS', 'ADSK', 'AEE', 'AEP', 'AES', 'AET',\n",
              "       'AFL', 'AGN', 'AIG', 'AIZ', 'AJG', 'AKAM', 'ALB', 'ALK', 'ALL',\n",
              "       'ALXN', 'AMAT', 'AME', 'AMG', 'AMGN', 'AMP', 'AMT', 'AMZN', 'AN',\n",
              "       'ANTM', 'AON', 'APA', 'APC', 'APD', 'APH', 'ARNC', 'ATVI', 'AVB',\n",
              "       'AVGO', 'AVY', 'AWK', 'AXP', 'AYI', 'AZO', 'BA', 'BAC', 'BAX',\n",
              "       'BBBY', 'BBT', 'BBY', 'BCR', 'BDX', 'BEN', 'BHI', 'BIIB', 'BK',\n",
              "       'BLK', 'BLL', 'BMY', 'BSX', 'BWA', 'BXP', 'C', 'CA', 'CAG', 'CAH',\n",
              "       'CAT', 'CB', 'CBG', 'CBS', 'CCI', 'CCL', 'CELG', 'CERN', 'CF',\n",
              "       'CHD', 'CHK', 'CHRW', 'CI', 'CINF', 'CL', 'CLX', 'CMA', 'CMCSA',\n",
              "       'CME', 'CMG', 'CMI', 'CMS', 'CNC', 'CNP', 'COF', 'COG', 'COH',\n",
              "       'COL', 'COO', 'COP', 'COST', 'CPB', 'CRM', 'CSCO', 'CSX', 'CTAS',\n",
              "       'CTL', 'CTSH', 'CTXS', 'CVS', 'CVX', 'CXO', 'D', 'DAL', 'DD', 'DE',\n",
              "       'DFS', 'DG', 'DGX', 'DHI', 'DHR', 'DIS', 'DISCA', 'DISCK', 'DLR',\n",
              "       'DLTR', 'DNB', 'DOV', 'DOW', 'DPS', 'DRI', 'DTE', 'DUK', 'DVA',\n",
              "       'DVN', 'EA', 'EBAY', 'ECL', 'ED', 'EFX', 'EIX', 'EL', 'EMN', 'EMR',\n",
              "       'ENDP', 'EOG', 'EQIX', 'EQR', 'EQT', 'ES', 'ESRX', 'ESS', 'ETFC',\n",
              "       'ETN', 'ETR', 'EW', 'EXC', 'EXPD', 'EXPE', 'EXR', 'F', 'FAST',\n",
              "       'FCX', 'FDX', 'FE', 'FFIV', 'FIS', 'FISV', 'FITB', 'FL', 'FLIR',\n",
              "       'FLR', 'FLS', 'FMC', 'FOX', 'FOXA', 'FRT', 'FSLR', 'FTI', 'FTR',\n",
              "       'GD', 'GE', 'GGP', 'GILD', 'GIS', 'GLW', 'GOOG', 'GOOGL', 'GPC',\n",
              "       'GPN', 'GPS', 'GRMN', 'GS', 'GT', 'GWW', 'HAL', 'HAR', 'HAS',\n",
              "       'HBAN', 'HBI', 'HCN', 'HCP', 'HD', 'HES', 'HIG', 'HOG', 'HOLX',\n",
              "       'HON', 'HP', 'HPQ', 'HRB', 'HRL', 'HRS', 'HSIC', 'HST', 'HSY',\n",
              "       'HUM', 'IBM', 'ICE', 'IDXX', 'IFF', 'ILMN', 'INTC', 'INTU', 'IP',\n",
              "       'IPG', 'IR', 'IRM', 'ISRG', 'ITW', 'IVZ', 'JBHT', 'JCI', 'JEC',\n",
              "       'JNJ', 'JNPR', 'JPM', 'JWN', 'K', 'KEY', 'KIM', 'KLAC', 'KMB',\n",
              "       'KMX', 'KO', 'KR', 'KSS', 'KSU', 'L', 'LB', 'LEG', 'LEN', 'LH',\n",
              "       'LKQ', 'LLL', 'LLTC', 'LLY', 'LMT', 'LNC', 'LNT', 'LOW', 'LRCX',\n",
              "       'LUK', 'LUV', 'LVLT', 'M', 'MA', 'MAA', 'MAC', 'MAR', 'MAS', 'MAT',\n",
              "       'MCD', 'MCHP', 'MCK', 'MCO', 'MDLZ', 'MDT', 'MET', 'MHK', 'MJN',\n",
              "       'MKC', 'MLM', 'MMC', 'MMM', 'MNST', 'MO', 'MON', 'MOS', 'MRK',\n",
              "       'MRO', 'MSFT', 'MSI', 'MTB', 'MTD', 'MU', 'MUR', 'MYL', 'NBL',\n",
              "       'NDAQ', 'NEE', 'NEM', 'NFLX', 'NFX', 'NI', 'NKE', 'NOC', 'NOV',\n",
              "       'NRG', 'NSC', 'NTAP', 'NTRS', 'NUE', 'NVDA', 'NWL', 'O', 'OKE',\n",
              "       'OMC', 'ORCL', 'ORLY', 'OXY', 'PAYX', 'PBCT', 'PBI', 'PCAR', 'PCG',\n",
              "       'PCLN', 'PDCO', 'PEG', 'PEP', 'PFE', 'PFG', 'PG', 'PGR', 'PH',\n",
              "       'PHM', 'PKI', 'PLD', 'PM', 'PNC', 'PNR', 'PNW', 'PPG', 'PPL',\n",
              "       'PRGO', 'PRU', 'PSA', 'PVH', 'PWR', 'PX', 'PXD', 'QCOM', 'R',\n",
              "       'RAI', 'RCL', 'REGN', 'RF', 'RHI', 'RHT', 'RIG', 'RL', 'ROK',\n",
              "       'ROP', 'ROST', 'RRC', 'RSG', 'RTN', 'SBUX', 'SCG', 'SCHW', 'SE',\n",
              "       'SEE', 'SHW', 'SIG', 'SJM', 'SLB', 'SLG', 'SNA', 'SNI', 'SO',\n",
              "       'SPG', 'SPGI', 'SPLS', 'SRCL', 'SRE', 'STI', 'STT', 'STX', 'STZ',\n",
              "       'SWK', 'SWKS', 'SWN', 'SYK', 'SYMC', 'SYY', 'T', 'TAP', 'TDC',\n",
              "       'TEL', 'TGNA', 'TGT', 'TIF', 'TJX', 'TMK', 'TMO', 'TROW', 'TRV',\n",
              "       'TSCO', 'TSN', 'TSO', 'TSS', 'TWX', 'TXN', 'TXT', 'UAA', 'UAL',\n",
              "       'UDR', 'UHS', 'ULTA', 'UNH', 'UNM', 'UNP', 'UPS', 'URBN', 'URI',\n",
              "       'USB', 'UTX', 'V', 'VAR', 'VFC', 'VIAB', 'VLO', 'VMC', 'VNO',\n",
              "       'VRSK', 'VRSN', 'VRTX', 'VTR', 'VZ', 'WAT', 'WBA', 'WDC', 'WEC',\n",
              "       'WFC', 'WFM', 'WHR', 'WM', 'WMB', 'WMT', 'WU', 'WY', 'WYN', 'WYNN',\n",
              "       'XEC', 'XEL', 'XL', 'XLNX', 'XOM', 'XRAY', 'XRX', 'YHOO', 'YUM',\n",
              "       'ZBH', 'ZION', 'AIV', 'CHTR', 'LYB', 'GM', 'ABBV', 'DLPH', 'FB',\n",
              "       'FBHS', 'HCA', 'KMI', 'KORS', 'MPC', 'NLSN', 'PSX', 'TDG', 'TRIP',\n",
              "       'XYL', 'ZTS', 'COTY', 'MNK', 'NWS', 'NWSA', 'EVHC', 'ALLE', 'CFG',\n",
              "       'NAVI', 'QRVO', 'SYF', 'WRK', 'KHC', 'PYPL', 'HPE', 'CSRA', 'FTV'],\n",
              "      dtype=object)"
            ]
          },
          "metadata": {
            "tags": []
          },
          "execution_count": 8
        }
      ]
    },
    {
      "cell_type": "code",
      "metadata": {
        "colab": {
          "base_uri": "https://localhost:8080/",
          "height": 190
        },
        "id": "TPb43y3aSELe",
        "outputId": "36df4d95-a6f1-4fa6-f21c-6b2507ee676f"
      },
      "source": [
        "yahoo.head()"
      ],
      "execution_count": 9,
      "outputs": [
        {
          "output_type": "execute_result",
          "data": {
            "text/html": [
              "<div>\n",
              "<style scoped>\n",
              "    .dataframe tbody tr th:only-of-type {\n",
              "        vertical-align: middle;\n",
              "    }\n",
              "\n",
              "    .dataframe tbody tr th {\n",
              "        vertical-align: top;\n",
              "    }\n",
              "\n",
              "    .dataframe thead th {\n",
              "        text-align: right;\n",
              "    }\n",
              "</style>\n",
              "<table border=\"1\" class=\"dataframe\">\n",
              "  <thead>\n",
              "    <tr style=\"text-align: right;\">\n",
              "      <th></th>\n",
              "      <th>date</th>\n",
              "      <th>symbol</th>\n",
              "      <th>open</th>\n",
              "      <th>close</th>\n",
              "      <th>low</th>\n",
              "      <th>high</th>\n",
              "      <th>volume</th>\n",
              "    </tr>\n",
              "  </thead>\n",
              "  <tbody>\n",
              "    <tr>\n",
              "      <th>713</th>\n",
              "      <td>2010-01-04</td>\n",
              "      <td>YHOO</td>\n",
              "      <td>16.940001</td>\n",
              "      <td>17.100000</td>\n",
              "      <td>16.879999</td>\n",
              "      <td>17.200001</td>\n",
              "      <td>16587400.0</td>\n",
              "    </tr>\n",
              "    <tr>\n",
              "      <th>1181</th>\n",
              "      <td>2010-01-05</td>\n",
              "      <td>YHOO</td>\n",
              "      <td>17.219999</td>\n",
              "      <td>17.230000</td>\n",
              "      <td>17.000000</td>\n",
              "      <td>17.230000</td>\n",
              "      <td>11718100.0</td>\n",
              "    </tr>\n",
              "    <tr>\n",
              "      <th>1649</th>\n",
              "      <td>2010-01-06</td>\n",
              "      <td>YHOO</td>\n",
              "      <td>17.170000</td>\n",
              "      <td>17.170000</td>\n",
              "      <td>17.070000</td>\n",
              "      <td>17.299999</td>\n",
              "      <td>16422000.0</td>\n",
              "    </tr>\n",
              "    <tr>\n",
              "      <th>2117</th>\n",
              "      <td>2010-01-07</td>\n",
              "      <td>YHOO</td>\n",
              "      <td>16.809999</td>\n",
              "      <td>16.700001</td>\n",
              "      <td>16.570000</td>\n",
              "      <td>16.900000</td>\n",
              "      <td>31816300.0</td>\n",
              "    </tr>\n",
              "    <tr>\n",
              "      <th>2585</th>\n",
              "      <td>2010-01-08</td>\n",
              "      <td>YHOO</td>\n",
              "      <td>16.680000</td>\n",
              "      <td>16.700001</td>\n",
              "      <td>16.620001</td>\n",
              "      <td>16.760000</td>\n",
              "      <td>15470000.0</td>\n",
              "    </tr>\n",
              "  </tbody>\n",
              "</table>\n",
              "</div>"
            ],
            "text/plain": [
              "            date symbol       open      close        low       high      volume\n",
              "713   2010-01-04   YHOO  16.940001  17.100000  16.879999  17.200001  16587400.0\n",
              "1181  2010-01-05   YHOO  17.219999  17.230000  17.000000  17.230000  11718100.0\n",
              "1649  2010-01-06   YHOO  17.170000  17.170000  17.070000  17.299999  16422000.0\n",
              "2117  2010-01-07   YHOO  16.809999  16.700001  16.570000  16.900000  31816300.0\n",
              "2585  2010-01-08   YHOO  16.680000  16.700001  16.620001  16.760000  15470000.0"
            ]
          },
          "metadata": {
            "tags": []
          },
          "execution_count": 9
        }
      ]
    },
    {
      "cell_type": "code",
      "metadata": {
        "colab": {
          "base_uri": "https://localhost:8080/",
          "height": 190
        },
        "id": "vvwsDhoDFAvl",
        "outputId": "2cf8639d-1dde-4f0a-c996-377105e6a0b5"
      },
      "source": [
        "yahoo.tail()"
      ],
      "execution_count": 10,
      "outputs": [
        {
          "output_type": "execute_result",
          "data": {
            "text/html": [
              "<div>\n",
              "<style scoped>\n",
              "    .dataframe tbody tr th:only-of-type {\n",
              "        vertical-align: middle;\n",
              "    }\n",
              "\n",
              "    .dataframe tbody tr th {\n",
              "        vertical-align: top;\n",
              "    }\n",
              "\n",
              "    .dataframe thead th {\n",
              "        text-align: right;\n",
              "    }\n",
              "</style>\n",
              "<table border=\"1\" class=\"dataframe\">\n",
              "  <thead>\n",
              "    <tr style=\"text-align: right;\">\n",
              "      <th></th>\n",
              "      <th>date</th>\n",
              "      <th>symbol</th>\n",
              "      <th>open</th>\n",
              "      <th>close</th>\n",
              "      <th>low</th>\n",
              "      <th>high</th>\n",
              "      <th>volume</th>\n",
              "    </tr>\n",
              "  </thead>\n",
              "  <tbody>\n",
              "    <tr>\n",
              "      <th>849257</th>\n",
              "      <td>2016-12-23</td>\n",
              "      <td>YHOO</td>\n",
              "      <td>38.459999</td>\n",
              "      <td>38.660000</td>\n",
              "      <td>38.369999</td>\n",
              "      <td>38.810001</td>\n",
              "      <td>3840100.0</td>\n",
              "    </tr>\n",
              "    <tr>\n",
              "      <th>849757</th>\n",
              "      <td>2016-12-27</td>\n",
              "      <td>YHOO</td>\n",
              "      <td>38.590000</td>\n",
              "      <td>38.919998</td>\n",
              "      <td>38.500000</td>\n",
              "      <td>39.070000</td>\n",
              "      <td>4240300.0</td>\n",
              "    </tr>\n",
              "    <tr>\n",
              "      <th>850257</th>\n",
              "      <td>2016-12-28</td>\n",
              "      <td>YHOO</td>\n",
              "      <td>39.119999</td>\n",
              "      <td>38.730000</td>\n",
              "      <td>38.709999</td>\n",
              "      <td>39.220001</td>\n",
              "      <td>4393500.0</td>\n",
              "    </tr>\n",
              "    <tr>\n",
              "      <th>850757</th>\n",
              "      <td>2016-12-29</td>\n",
              "      <td>YHOO</td>\n",
              "      <td>38.759998</td>\n",
              "      <td>38.639999</td>\n",
              "      <td>38.480000</td>\n",
              "      <td>38.930000</td>\n",
              "      <td>4170200.0</td>\n",
              "    </tr>\n",
              "    <tr>\n",
              "      <th>851257</th>\n",
              "      <td>2016-12-30</td>\n",
              "      <td>YHOO</td>\n",
              "      <td>38.720001</td>\n",
              "      <td>38.669998</td>\n",
              "      <td>38.430000</td>\n",
              "      <td>39.000000</td>\n",
              "      <td>6431600.0</td>\n",
              "    </tr>\n",
              "  </tbody>\n",
              "</table>\n",
              "</div>"
            ],
            "text/plain": [
              "              date symbol       open  ...        low       high     volume\n",
              "849257  2016-12-23   YHOO  38.459999  ...  38.369999  38.810001  3840100.0\n",
              "849757  2016-12-27   YHOO  38.590000  ...  38.500000  39.070000  4240300.0\n",
              "850257  2016-12-28   YHOO  39.119999  ...  38.709999  39.220001  4393500.0\n",
              "850757  2016-12-29   YHOO  38.759998  ...  38.480000  38.930000  4170200.0\n",
              "851257  2016-12-30   YHOO  38.720001  ...  38.430000  39.000000  6431600.0\n",
              "\n",
              "[5 rows x 7 columns]"
            ]
          },
          "metadata": {
            "tags": []
          },
          "execution_count": 10
        }
      ]
    },
    {
      "cell_type": "code",
      "metadata": {
        "colab": {
          "base_uri": "https://localhost:8080/"
        },
        "id": "vfnBtiaIY99H",
        "outputId": "d0676518-aa56-47a8-fe71-63ba524751af"
      },
      "source": [
        "yahoo.dateBis= pd.to_datetime(yahoo.date, format='%Y/%m/%d')"
      ],
      "execution_count": 11,
      "outputs": [
        {
          "output_type": "stream",
          "text": [
            "/usr/local/lib/python3.7/dist-packages/ipykernel_launcher.py:1: UserWarning: Pandas doesn't allow columns to be created via a new attribute name - see https://pandas.pydata.org/pandas-docs/stable/indexing.html#attribute-access\n",
            "  \"\"\"Entry point for launching an IPython kernel.\n"
          ],
          "name": "stderr"
        }
      ]
    },
    {
      "cell_type": "code",
      "metadata": {
        "id": "b0jRd2_bLWbI"
      },
      "source": [
        "yahoo_stock_prices = yahoo.values[:,-2].astype('float32')"
      ],
      "execution_count": 12,
      "outputs": []
    },
    {
      "cell_type": "code",
      "metadata": {
        "colab": {
          "base_uri": "https://localhost:8080/"
        },
        "id": "d3dE1TR1RyUE",
        "outputId": "81aa3ead-c88f-4a2a-e756-d6bf16da6734"
      },
      "source": [
        "yahoo_stock_prices"
      ],
      "execution_count": 13,
      "outputs": [
        {
          "output_type": "execute_result",
          "data": {
            "text/plain": [
              "array([17.2 , 17.23, 17.3 , ..., 39.22, 38.93, 39.  ], dtype=float32)"
            ]
          },
          "metadata": {
            "tags": []
          },
          "execution_count": 13
        }
      ]
    },
    {
      "cell_type": "code",
      "metadata": {
        "colab": {
          "base_uri": "https://localhost:8080/"
        },
        "id": "6KnCw_EsR1BX",
        "outputId": "308d599e-4960-4848-f23d-72163828bdd4"
      },
      "source": [
        "yahoo_stock_prices.shape"
      ],
      "execution_count": 14,
      "outputs": [
        {
          "output_type": "execute_result",
          "data": {
            "text/plain": [
              "(1762,)"
            ]
          },
          "metadata": {
            "tags": []
          },
          "execution_count": 14
        }
      ]
    },
    {
      "cell_type": "code",
      "metadata": {
        "id": "7BsoESRvSRuW"
      },
      "source": [
        "yahoo_stock_prices = yahoo_stock_prices.reshape(yahoo_stock_prices.shape[0], 1)"
      ],
      "execution_count": 15,
      "outputs": []
    },
    {
      "cell_type": "code",
      "metadata": {
        "colab": {
          "base_uri": "https://localhost:8080/"
        },
        "id": "G8_0pXr1SYN3",
        "outputId": "36c0c060-d553-477c-9d82-390114604265"
      },
      "source": [
        "yahoo_stock_prices.shape"
      ],
      "execution_count": 16,
      "outputs": [
        {
          "output_type": "execute_result",
          "data": {
            "text/plain": [
              "(1762, 1)"
            ]
          },
          "metadata": {
            "tags": []
          },
          "execution_count": 16
        }
      ]
    },
    {
      "cell_type": "code",
      "metadata": {
        "colab": {
          "base_uri": "https://localhost:8080/",
          "height": 282
        },
        "id": "b_dQCBEISaW9",
        "outputId": "83ce28ec-cbe4-4762-848f-7b68e7b8d984"
      },
      "source": [
        "plt.plot(yahoo.dateBis,yahoo_stock_prices)"
      ],
      "execution_count": 17,
      "outputs": [
        {
          "output_type": "execute_result",
          "data": {
            "text/plain": [
              "[<matplotlib.lines.Line2D at 0x7f37502c7550>]"
            ]
          },
          "metadata": {
            "tags": []
          },
          "execution_count": 17
        },
        {
          "output_type": "display_data",
          "data": {
            "image/png": "[encoded data removed]",
            "text/plain": [
              "<Figure size 432x288 with 1 Axes>"
            ]
          },
          "metadata": {
            "tags": [],
            "needs_background": "light"
          }
        }
      ]
    },
    {
      "cell_type": "markdown",
      "metadata": {
        "id": "BJd_sgHbVuWW"
      },
      "source": [
        "We see that the price of Yahoo rised a lot espacially in 2015"
      ]
    },
    {
      "cell_type": "markdown",
      "metadata": {
        "id": "3JdFVohyZyY3"
      },
      "source": [
        "## Divinding into train and test variables"
      ]
    },
    {
      "cell_type": "code",
      "metadata": {
        "colab": {
          "base_uri": "https://localhost:8080/"
        },
        "id": "aDV5-0P1dcFv",
        "outputId": "3c58857c-da45-463b-d692-eb86fc12ba77"
      },
      "source": [
        "len(yahoo_stock_prices)"
      ],
      "execution_count": 18,
      "outputs": [
        {
          "output_type": "execute_result",
          "data": {
            "text/plain": [
              "1762"
            ]
          },
          "metadata": {
            "tags": []
          },
          "execution_count": 18
        }
      ]
    },
    {
      "cell_type": "code",
      "metadata": {
        "id": "9-N3Zoa6VWAY"
      },
      "source": [
        "train_size= int(len(yahoo_stock_prices)*0.8)"
      ],
      "execution_count": 19,
      "outputs": []
    },
    {
      "cell_type": "code",
      "metadata": {
        "id": "IdhKaG-gde4y"
      },
      "source": [
        "train,test= yahoo_stock_prices[:train_size,:],yahoo_stock_prices[train_size:,:] "
      ],
      "execution_count": 20,
      "outputs": []
    },
    {
      "cell_type": "code",
      "metadata": {
        "colab": {
          "base_uri": "https://localhost:8080/"
        },
        "id": "_yG3yG-HdgwD",
        "outputId": "3cd0f7ec-73d9-40db-f8c8-7c1db9019c2b"
      },
      "source": [
        "train.shape,test.shape"
      ],
      "execution_count": 21,
      "outputs": [
        {
          "output_type": "execute_result",
          "data": {
            "text/plain": [
              "((1409, 1), (353, 1))"
            ]
          },
          "metadata": {
            "tags": []
          },
          "execution_count": 21
        }
      ]
    },
    {
      "cell_type": "markdown",
      "metadata": {
        "id": "iQoqz9YaHRh7"
      },
      "source": [
        "## Making vary the look_back parameter"
      ]
    },
    {
      "cell_type": "code",
      "metadata": {
        "colab": {
          "base_uri": "https://localhost:8080/"
        },
        "id": "SW5K76qiMoA1",
        "outputId": "9af4d5f4-af4f-41ae-8ccc-72c01983897d"
      },
      "source": [
        "train[10:(10+2),0]"
      ],
      "execution_count": 22,
      "outputs": [
        {
          "output_type": "execute_result",
          "data": {
            "text/plain": [
              "array([16.96, 16.68], dtype=float32)"
            ]
          },
          "metadata": {
            "tags": []
          },
          "execution_count": 22
        }
      ]
    },
    {
      "cell_type": "code",
      "metadata": {
        "colab": {
          "base_uri": "https://localhost:8080/"
        },
        "id": "DIcOfGy7MzDA",
        "outputId": "3e49ab59-11c4-49fe-a8e6-560556d8800a"
      },
      "source": [
        "train[9:(9+2),0]"
      ],
      "execution_count": 23,
      "outputs": [
        {
          "output_type": "execute_result",
          "data": {
            "text/plain": [
              "array([17.25, 16.96], dtype=float32)"
            ]
          },
          "metadata": {
            "tags": []
          },
          "execution_count": 23
        }
      ]
    },
    {
      "cell_type": "code",
      "metadata": {
        "id": "Ky6yfL5Mdv-A"
      },
      "source": [
        "def create_dataset(dataset, look_back):\n",
        "  dataX,dataY=[],[]\n",
        "  for i in range(len(dataset)-look_back):\n",
        "    pre_Xtrain= dataset[i:(i+look_back),0]\n",
        "    dataX.append(pre_Xtrain)\n",
        "    dataY.append(dataset[i+look_back,0])\n",
        "  return np.array(dataX),np.array(dataY)"
      ],
      "execution_count": 24,
      "outputs": []
    },
    {
      "cell_type": "code",
      "metadata": {
        "id": "SDtIhBQcQpl6"
      },
      "source": [
        "look_back=2\n",
        "X_train,y_train=create_dataset(train,look_back)\n",
        "X_test,y_test=create_dataset(test,look_back)\n"
      ],
      "execution_count": 25,
      "outputs": []
    },
    {
      "cell_type": "code",
      "metadata": {
        "colab": {
          "base_uri": "https://localhost:8080/"
        },
        "id": "zEQwrtVDRQB2",
        "outputId": "7e7d363d-65c6-4588-b624-274698e4dcfe"
      },
      "source": [
        "\n",
        "print('variables préliminaires',X_train[0])\n",
        "print('variable à prédire',y_train[0])\n",
        "print('variables préliminaires',X_train[1])\n",
        "print('variable à prédire',y_train[1])\n",
        "print('Forme de la structure préliminaire pour entrainer',X_train.shape)\n",
        "print('Forme de la structure prédite pour entrainer',y_train.shape)\n",
        "print('Forme de la structure préliminaire pour tester',X_test.shape)\n",
        "print('Forme de la structure prédite pour tester',y_test.shape)"
      ],
      "execution_count": 26,
      "outputs": [
        {
          "output_type": "stream",
          "text": [
            "variables préliminaires [17.2  17.23]\n",
            "variable à prédire 17.3\n",
            "variables préliminaires [17.23 17.3 ]\n",
            "variable à prédire 16.9\n",
            "Forme de la structure préliminaire pour entrainer (1407, 2)\n",
            "Forme de la structure prédite pour entrainer (1407,)\n",
            "Forme de la structure préliminaire pour tester (351, 2)\n",
            "Forme de la structure prédite pour tester (351,)\n"
          ],
          "name": "stdout"
        }
      ]
    },
    {
      "cell_type": "markdown",
      "metadata": {
        "id": "vRyuuybGQoff"
      },
      "source": [
        "Reshape les données en array d'array"
      ]
    },
    {
      "cell_type": "code",
      "metadata": {
        "id": "O-LUmXH2M5WW"
      },
      "source": [
        "X_train=np.reshape(X_train, (X_train.shape[0], 1, X_train.shape[1]))\n",
        "X_test = np.reshape(X_test, (X_test.shape[0], 1, X_test.shape[1]))"
      ],
      "execution_count": 27,
      "outputs": []
    },
    {
      "cell_type": "code",
      "metadata": {
        "colab": {
          "base_uri": "https://localhost:8080/"
        },
        "id": "2WQbLi_hTKAz",
        "outputId": "237b06da-b606-4a8a-bcd3-3895848a9fac"
      },
      "source": [
        "print('Forme de la structure préliminaire pour entrainer',X_train.shape)\n",
        "print('Forme de la structure prédite pour entrainer',y_train.shape)\n",
        "print('Forme de la structure préliminaire pour tester',X_test.shape)\n",
        "print('Forme de la structure prédite pour tester',y_test.shape)"
      ],
      "execution_count": 28,
      "outputs": [
        {
          "output_type": "stream",
          "text": [
            "Forme de la structure préliminaire pour entrainer (1407, 1, 2)\n",
            "Forme de la structure prédite pour entrainer (1407,)\n",
            "Forme de la structure préliminaire pour tester (351, 1, 2)\n",
            "Forme de la structure prédite pour tester (351,)\n"
          ],
          "name": "stdout"
        }
      ]
    },
    {
      "cell_type": "markdown",
      "metadata": {
        "id": "xnUeMwoXTvgC"
      },
      "source": [
        "#Create a neural network"
      ]
    },
    {
      "cell_type": "code",
      "metadata": {
        "id": "ZS2AGxftTZK7"
      },
      "source": [
        "from tensorflow.keras.layers import Dense, Activation, Dropout\n",
        "from tensorflow.keras.layers import LSTM\n",
        "from tensorflow.keras.models import Sequential\n",
        "import time "
      ],
      "execution_count": 29,
      "outputs": []
    },
    {
      "cell_type": "code",
      "metadata": {
        "colab": {
          "base_uri": "https://localhost:8080/"
        },
        "id": "iuN6Bj8QT4iB",
        "outputId": "d29d0a2f-7344-4979-c734-2678697c07f0"
      },
      "source": [
        "model = Sequential()\n",
        "model.add(LSTM(input_dim=2, units=50, return_sequences=True))\n",
        "model.add(Dropout(0.2))\n",
        "model.add(LSTM(100, return_sequences=False))\n",
        "model.add(Dropout(0.2))\n",
        "model.add(Dense(units=2, activation ='linear'))\n",
        "model.summary()"
      ],
      "execution_count": 30,
      "outputs": [
        {
          "output_type": "stream",
          "text": [
            "Model: \"sequential\"\n",
            "_________________________________________________________________\n",
            "Layer (type)                 Output Shape              Param #   \n",
            "=================================================================\n",
            "lstm (LSTM)                  (None, None, 50)          10600     \n",
            "_________________________________________________________________\n",
            "dropout (Dropout)            (None, None, 50)          0         \n",
            "_________________________________________________________________\n",
            "lstm_1 (LSTM)                (None, 100)               60400     \n",
            "_________________________________________________________________\n",
            "dropout_1 (Dropout)          (None, 100)               0         \n",
            "_________________________________________________________________\n",
            "dense (Dense)                (None, 2)                 202       \n",
            "=================================================================\n",
            "Total params: 71,202\n",
            "Trainable params: 71,202\n",
            "Non-trainable params: 0\n",
            "_________________________________________________________________\n"
          ],
          "name": "stdout"
        }
      ]
    },
    {
      "cell_type": "markdown",
      "metadata": {
        "id": "wAhckwBHUgoD"
      },
      "source": [
        "Optimizers : rmsprop and loss func : mse"
      ]
    },
    {
      "cell_type": "code",
      "metadata": {
        "colab": {
          "base_uri": "https://localhost:8080/"
        },
        "id": "v7Uj_db5T_j_",
        "outputId": "f8d02341-c93e-48fb-d961-063850a942b1"
      },
      "source": [
        "model.compile(loss='mse', optimizer='rmsprop')\n",
        "model.fit(X_train,y_train,batch_size=128,epochs=70,validation_split=0.05)"
      ],
      "execution_count": 31,
      "outputs": [
        {
          "output_type": "stream",
          "text": [
            "Epoch 1/70\n",
            "11/11 [==============================] - 34s 81ms/step - loss: 697.4490 - val_loss: 1619.5389\n",
            "Epoch 2/70\n",
            "11/11 [==============================] - 0s 7ms/step - loss: 664.9752 - val_loss: 1488.6970\n",
            "Epoch 3/70\n",
            "11/11 [==============================] - 0s 6ms/step - loss: 591.2825 - val_loss: 1313.1537\n",
            "Epoch 4/70\n",
            "11/11 [==============================] - 0s 7ms/step - loss: 490.2837 - val_loss: 1152.2885\n",
            "Epoch 5/70\n",
            "11/11 [==============================] - 0s 6ms/step - loss: 412.6113 - val_loss: 1029.1167\n",
            "Epoch 6/70\n",
            "11/11 [==============================] - 0s 7ms/step - loss: 364.5175 - val_loss: 934.5044\n",
            "Epoch 7/70\n",
            "11/11 [==============================] - 0s 7ms/step - loss: 309.6114 - val_loss: 860.2890\n",
            "Epoch 8/70\n",
            "11/11 [==============================] - 0s 7ms/step - loss: 284.1501 - val_loss: 798.5508\n",
            "Epoch 9/70\n",
            "11/11 [==============================] - 0s 7ms/step - loss: 249.2788 - val_loss: 743.5483\n",
            "Epoch 10/70\n",
            "11/11 [==============================] - 0s 7ms/step - loss: 249.0798 - val_loss: 696.2686\n",
            "Epoch 11/70\n",
            "11/11 [==============================] - 0s 7ms/step - loss: 221.7101 - val_loss: 651.4260\n",
            "Epoch 12/70\n",
            "11/11 [==============================] - 0s 8ms/step - loss: 203.8750 - val_loss: 610.6391\n",
            "Epoch 13/70\n",
            "11/11 [==============================] - 0s 7ms/step - loss: 187.9809 - val_loss: 570.9772\n",
            "Epoch 14/70\n",
            "11/11 [==============================] - 0s 7ms/step - loss: 164.7002 - val_loss: 534.2142\n",
            "Epoch 15/70\n",
            "11/11 [==============================] - 0s 6ms/step - loss: 162.0683 - val_loss: 499.0593\n",
            "Epoch 16/70\n",
            "11/11 [==============================] - 0s 6ms/step - loss: 145.3695 - val_loss: 466.9022\n",
            "Epoch 17/70\n",
            "11/11 [==============================] - 0s 7ms/step - loss: 157.7175 - val_loss: 439.1923\n",
            "Epoch 18/70\n",
            "11/11 [==============================] - 0s 7ms/step - loss: 144.0263 - val_loss: 408.4543\n",
            "Epoch 19/70\n",
            "11/11 [==============================] - 0s 7ms/step - loss: 124.0222 - val_loss: 373.7418\n",
            "Epoch 20/70\n",
            "11/11 [==============================] - 0s 7ms/step - loss: 114.8120 - val_loss: 341.2827\n",
            "Epoch 21/70\n",
            "11/11 [==============================] - 0s 7ms/step - loss: 105.7770 - val_loss: 314.1067\n",
            "Epoch 22/70\n",
            "11/11 [==============================] - 0s 7ms/step - loss: 89.9680 - val_loss: 282.1637\n",
            "Epoch 23/70\n",
            "11/11 [==============================] - 0s 7ms/step - loss: 86.7012 - val_loss: 259.4218\n",
            "Epoch 24/70\n",
            "11/11 [==============================] - 0s 7ms/step - loss: 79.1402 - val_loss: 232.5481\n",
            "Epoch 25/70\n",
            "11/11 [==============================] - 0s 7ms/step - loss: 73.8916 - val_loss: 211.2042\n",
            "Epoch 26/70\n",
            "11/11 [==============================] - 0s 7ms/step - loss: 68.4000 - val_loss: 189.5960\n",
            "Epoch 27/70\n",
            "11/11 [==============================] - 0s 7ms/step - loss: 56.0816 - val_loss: 170.0110\n",
            "Epoch 28/70\n",
            "11/11 [==============================] - 0s 7ms/step - loss: 58.4150 - val_loss: 150.3154\n",
            "Epoch 29/70\n",
            "11/11 [==============================] - 0s 8ms/step - loss: 50.0239 - val_loss: 139.2712\n",
            "Epoch 30/70\n",
            "11/11 [==============================] - 0s 7ms/step - loss: 48.4430 - val_loss: 120.6547\n",
            "Epoch 31/70\n",
            "11/11 [==============================] - 0s 7ms/step - loss: 44.3208 - val_loss: 101.7101\n",
            "Epoch 32/70\n",
            "11/11 [==============================] - 0s 7ms/step - loss: 38.0348 - val_loss: 90.1862\n",
            "Epoch 33/70\n",
            "11/11 [==============================] - 0s 7ms/step - loss: 34.3320 - val_loss: 80.1635\n",
            "Epoch 34/70\n",
            "11/11 [==============================] - 0s 7ms/step - loss: 31.1672 - val_loss: 69.1315\n",
            "Epoch 35/70\n",
            "11/11 [==============================] - 0s 8ms/step - loss: 30.0181 - val_loss: 58.4450\n",
            "Epoch 36/70\n",
            "11/11 [==============================] - 0s 6ms/step - loss: 26.7700 - val_loss: 48.8600\n",
            "Epoch 37/70\n",
            "11/11 [==============================] - 0s 7ms/step - loss: 22.7817 - val_loss: 44.9984\n",
            "Epoch 38/70\n",
            "11/11 [==============================] - 0s 7ms/step - loss: 20.5985 - val_loss: 32.2050\n",
            "Epoch 39/70\n",
            "11/11 [==============================] - 0s 7ms/step - loss: 22.1504 - val_loss: 29.0605\n",
            "Epoch 40/70\n",
            "11/11 [==============================] - 0s 7ms/step - loss: 18.7978 - val_loss: 26.4472\n",
            "Epoch 41/70\n",
            "11/11 [==============================] - 0s 7ms/step - loss: 16.3406 - val_loss: 19.2020\n",
            "Epoch 42/70\n",
            "11/11 [==============================] - 0s 7ms/step - loss: 17.3653 - val_loss: 16.3061\n",
            "Epoch 43/70\n",
            "11/11 [==============================] - 0s 7ms/step - loss: 14.0057 - val_loss: 12.7942\n",
            "Epoch 44/70\n",
            "11/11 [==============================] - 0s 7ms/step - loss: 16.6854 - val_loss: 15.8520\n",
            "Epoch 45/70\n",
            "11/11 [==============================] - 0s 7ms/step - loss: 14.1819 - val_loss: 10.3122\n",
            "Epoch 46/70\n",
            "11/11 [==============================] - 0s 7ms/step - loss: 12.8014 - val_loss: 15.5236\n",
            "Epoch 47/70\n",
            "11/11 [==============================] - 0s 7ms/step - loss: 14.5119 - val_loss: 10.3568\n",
            "Epoch 48/70\n",
            "11/11 [==============================] - 0s 7ms/step - loss: 12.0847 - val_loss: 10.4877\n",
            "Epoch 49/70\n",
            "11/11 [==============================] - 0s 7ms/step - loss: 12.3216 - val_loss: 4.7552\n",
            "Epoch 50/70\n",
            "11/11 [==============================] - 0s 7ms/step - loss: 12.2806 - val_loss: 5.5955\n",
            "Epoch 51/70\n",
            "11/11 [==============================] - 0s 7ms/step - loss: 11.6498 - val_loss: 4.1561\n",
            "Epoch 52/70\n",
            "11/11 [==============================] - 0s 8ms/step - loss: 9.8055 - val_loss: 16.8856\n",
            "Epoch 53/70\n",
            "11/11 [==============================] - 0s 7ms/step - loss: 12.2690 - val_loss: 3.5257\n",
            "Epoch 54/70\n",
            "11/11 [==============================] - 0s 7ms/step - loss: 10.7003 - val_loss: 5.2624\n",
            "Epoch 55/70\n",
            "11/11 [==============================] - 0s 7ms/step - loss: 9.8455 - val_loss: 3.1910\n",
            "Epoch 56/70\n",
            "11/11 [==============================] - 0s 7ms/step - loss: 8.7580 - val_loss: 3.9659\n",
            "Epoch 57/70\n",
            "11/11 [==============================] - 0s 7ms/step - loss: 9.6630 - val_loss: 3.4667\n",
            "Epoch 58/70\n",
            "11/11 [==============================] - 0s 7ms/step - loss: 9.3002 - val_loss: 5.7761\n",
            "Epoch 59/70\n",
            "11/11 [==============================] - 0s 7ms/step - loss: 9.6778 - val_loss: 5.0906\n",
            "Epoch 60/70\n",
            "11/11 [==============================] - 0s 6ms/step - loss: 8.7722 - val_loss: 3.5390\n",
            "Epoch 61/70\n",
            "11/11 [==============================] - 0s 6ms/step - loss: 9.4768 - val_loss: 9.8989\n",
            "Epoch 62/70\n",
            "11/11 [==============================] - 0s 7ms/step - loss: 9.4542 - val_loss: 11.1921\n",
            "Epoch 63/70\n",
            "11/11 [==============================] - 0s 7ms/step - loss: 10.1322 - val_loss: 5.2452\n",
            "Epoch 64/70\n",
            "11/11 [==============================] - 0s 7ms/step - loss: 8.2603 - val_loss: 4.2231\n",
            "Epoch 65/70\n",
            "11/11 [==============================] - 0s 7ms/step - loss: 10.1736 - val_loss: 6.4147\n",
            "Epoch 66/70\n",
            "11/11 [==============================] - 0s 7ms/step - loss: 10.0652 - val_loss: 2.3015\n",
            "Epoch 67/70\n",
            "11/11 [==============================] - 0s 6ms/step - loss: 8.4138 - val_loss: 5.6894\n",
            "Epoch 68/70\n",
            "11/11 [==============================] - 0s 7ms/step - loss: 8.0140 - val_loss: 2.0339\n",
            "Epoch 69/70\n",
            "11/11 [==============================] - 0s 6ms/step - loss: 10.5186 - val_loss: 2.8765\n",
            "Epoch 70/70\n",
            "11/11 [==============================] - 0s 7ms/step - loss: 8.1507 - val_loss: 2.7609\n"
          ],
          "name": "stdout"
        },
        {
          "output_type": "execute_result",
          "data": {
            "text/plain": [
              "<tensorflow.python.keras.callbacks.History at 0x7f37024cfb50>"
            ]
          },
          "metadata": {
            "tags": []
          },
          "execution_count": 31
        }
      ]
    },
    {
      "cell_type": "markdown",
      "metadata": {
        "id": "sVOpQfjzVpO2"
      },
      "source": [
        "#Prediction"
      ]
    },
    {
      "cell_type": "code",
      "metadata": {
        "id": "Du8JUKJqU1am"
      },
      "source": [
        "prediction = model.predict(X_test)"
      ],
      "execution_count": 32,
      "outputs": []
    },
    {
      "cell_type": "code",
      "metadata": {
        "colab": {
          "base_uri": "https://localhost:8080/",
          "height": 298
        },
        "id": "KMMcx1M0Voay",
        "outputId": "9fecfb82-0204-4c75-f9eb-767642d62a80"
      },
      "source": [
        "plt.plot(y_test,label='reel',color='green')\n",
        "plt.plot(prediction,label='prediction',color='red')"
      ],
      "execution_count": 33,
      "outputs": [
        {
          "output_type": "execute_result",
          "data": {
            "text/plain": [
              "[<matplotlib.lines.Line2D at 0x7f37024c82d0>,\n",
              " <matplotlib.lines.Line2D at 0x7f3702546050>]"
            ]
          },
          "metadata": {
            "tags": []
          },
          "execution_count": 33
        },
        {
          "output_type": "display_data",
          "data": {
            "image/png": "[encoded data removed]",
            "text/plain": [
              "<Figure size 432x288 with 1 Axes>"
            ]
          },
          "metadata": {
            "tags": [],
            "needs_background": "light"
          }
        }
      ]
    },
    {
      "cell_type": "markdown",
      "metadata": {
        "id": "0H28asL9Wgd3"
      },
      "source": [
        "The prediction is pretty good except for the end of the prediction which has a little bias"
      ]
    },
    {
      "cell_type": "markdown",
      "metadata": {
        "id": "Ea6ETt6pZ_P_"
      },
      "source": [
        "<br><br><br>\n",
        "#GRU"
      ]
    },
    {
      "cell_type": "code",
      "metadata": {
        "id": "l0UykSi-ZGww"
      },
      "source": [
        "from tensorflow.keras.optimizers import RMSprop \n",
        "  \n",
        "from tensorflow.keras.callbacks import LambdaCallback \n",
        "from tensorflow.keras.callbacks import ModelCheckpoint \n",
        "from tensorflow.keras.callbacks import ReduceLROnPlateau \n",
        "import random \n",
        "import sys"
      ],
      "execution_count": 147,
      "outputs": []
    },
    {
      "cell_type": "markdown",
      "metadata": {
        "id": "KAJ6RuDPaxyo"
      },
      "source": [
        "##Poem importation"
      ]
    },
    {
      "cell_type": "code",
      "metadata": {
        "colab": {
          "base_uri": "https://localhost:8080/"
        },
        "id": "pTLofhckaoht",
        "outputId": "aaa0d9f8-39ca-4f86-9b43-5f15f7bb3585"
      },
      "source": [
        "with open('poems.txt', 'r') as file: \n",
        "\ttext = file.read() \n",
        "print(text)"
      ],
      "execution_count": 148,
      "outputs": [
        {
          "output_type": "stream",
          "text": [
            "﻿Buffalo Bill’s\n",
            "defunct\n",
            "who used to\n",
            "ride a watersmooth-silver\n",
            "stallion\n",
            "and break one two three four five pigeons just like that\n",
            "Jesus\n",
            "\n",
            "he was a handsome man\n",
            "and what i want to know is\n",
            "how do you like your blueeyed boy\n",
            "Mister Death\n",
            "\n",
            "Had I the heaven’s embroidered cloths,\n",
            "Enwrought with golden and silver light,\n",
            "The blue and the dim and the dark cloths\n",
            "Of night and light and the half-light,\n",
            "I would spread the cloths under your feet:\n",
            "But I, being poor, have only my dreams;\n",
            "I have spread my dreams under your feet;\n",
            "Tread softly because you tread on my dreams.\n",
            "\n",
            "He clasps the crag with crooked hands;\n",
            "Close to the sun in lonely lands,\n",
            "Ring’d with the azure world, he stands.\n",
            "\n",
            "The wrinkled sea beneath him crawls;\n",
            "He watches from his mountain walls,\n",
            "And like a thunderbolt he falls.\n",
            "\n",
            "Some say the world will end in fire,\n",
            "Some say in ice.\n",
            "From what I’ve tasted of desire\n",
            "I hold with those who favor fire.\n",
            "But if it had to perish twice,\n",
            "I think I know enough of hate\n",
            "To say that for destruction ice\n",
            "Is also great\n",
            "And would suffice.\n",
            "\n",
            "Two roads diverged in a yellow wood,\n",
            "And sorry I could not travel both\n",
            "And be one traveler, long I stood\n",
            "And looked down one as far as I could\n",
            "To where it bent in the undergrowth;\n",
            "\n",
            "Then took the other, as just as fair,\n",
            "And having perhaps the better claim,\n",
            "Because it was grassy and wanted wear;\n",
            "Though as for that the passing there\n",
            "Had worn them really about the same,\n",
            "\n",
            "And both that morning equally lay\n",
            "In leaves no step had trodden black.\n",
            "Oh, I kept the first for another day!\n",
            "Yet knowing how way leads on to way,\n",
            "I doubted if I should ever come back.\n",
            "\n",
            "I shall be telling this with a sigh\n",
            "Somewhere ages and ages hence:\n",
            "Two roads diverged in a wood, and I—\n",
            "I took the one less traveled by,\n",
            "And that has made all the difference.\n"
          ],
          "name": "stdout"
        }
      ]
    },
    {
      "cell_type": "code",
      "metadata": {
        "colab": {
          "base_uri": "https://localhost:8080/"
        },
        "id": "xatJqLmmasuz",
        "outputId": "e6df207d-72f4-40b3-ba15-3d3748ade189"
      },
      "source": [
        "vocabulary = sorted(list(set(text))) \n",
        "\n",
        "char_to_indices = dict((c, i) for i, c in enumerate(vocabulary)) \n",
        "indices_to_char = dict((i, c) for i, c in enumerate(vocabulary)) \n",
        "\n",
        "print(vocabulary)\n",
        "print(char_to_indices)\n",
        "print(indices_to_char)"
      ],
      "execution_count": 151,
      "outputs": [
        {
          "output_type": "stream",
          "text": [
            "['\\n', ' ', '!', ',', '-', '.', ':', ';', 'A', 'B', 'C', 'D', 'E', 'F', 'H', 'I', 'J', 'M', 'O', 'R', 'S', 'T', 'Y', 'a', 'b', 'c', 'd', 'e', 'f', 'g', 'h', 'i', 'j', 'k', 'l', 'm', 'n', 'o', 'p', 'q', 'r', 's', 't', 'u', 'v', 'w', 'y', 'z', '—', '’', '\\ufeff']\n",
            "{'\\n': 0, ' ': 1, '!': 2, ',': 3, '-': 4, '.': 5, ':': 6, ';': 7, 'A': 8, 'B': 9, 'C': 10, 'D': 11, 'E': 12, 'F': 13, 'H': 14, 'I': 15, 'J': 16, 'M': 17, 'O': 18, 'R': 19, 'S': 20, 'T': 21, 'Y': 22, 'a': 23, 'b': 24, 'c': 25, 'd': 26, 'e': 27, 'f': 28, 'g': 29, 'h': 30, 'i': 31, 'j': 32, 'k': 33, 'l': 34, 'm': 35, 'n': 36, 'o': 37, 'p': 38, 'q': 39, 'r': 40, 's': 41, 't': 42, 'u': 43, 'v': 44, 'w': 45, 'y': 46, 'z': 47, '—': 48, '’': 49, '\\ufeff': 50}\n",
            "{0: '\\n', 1: ' ', 2: '!', 3: ',', 4: '-', 5: '.', 6: ':', 7: ';', 8: 'A', 9: 'B', 10: 'C', 11: 'D', 12: 'E', 13: 'F', 14: 'H', 15: 'I', 16: 'J', 17: 'M', 18: 'O', 19: 'R', 20: 'S', 21: 'T', 22: 'Y', 23: 'a', 24: 'b', 25: 'c', 26: 'd', 27: 'e', 28: 'f', 29: 'g', 30: 'h', 31: 'i', 32: 'j', 33: 'k', 34: 'l', 35: 'm', 36: 'n', 37: 'o', 38: 'p', 39: 'q', 40: 'r', 41: 's', 42: 't', 43: 'u', 44: 'v', 45: 'w', 46: 'y', 47: 'z', 48: '—', 49: '’', 50: '\\ufeff'}\n"
          ],
          "name": "stdout"
        }
      ]
    },
    {
      "cell_type": "markdown",
      "metadata": {
        "id": "60W9PKRnbZ03"
      },
      "source": [
        "Split the data into subsequences"
      ]
    },
    {
      "cell_type": "code",
      "metadata": {
        "id": "LuY4Y1gZbCyC"
      },
      "source": [
        "max_length = 100\n",
        "steps = 5\n",
        "sentences = [] \n",
        "next_chars = [] \n",
        "for i in range(0, len(text) - max_length, steps): \n",
        "  sentences.append(text[i: i + max_length]) \n",
        "  next_chars.append(text[i + max_length])"
      ],
      "execution_count": 152,
      "outputs": []
    },
    {
      "cell_type": "code",
      "metadata": {
        "colab": {
          "base_uri": "https://localhost:8080/"
        },
        "id": "4S2ETfrvbzXg",
        "outputId": "23362e07-f568-49c8-c0c9-81d99b94eaeb"
      },
      "source": [
        "print(sentences)\n",
        "print(next_chars)"
      ],
      "execution_count": 154,
      "outputs": [
        {
          "output_type": "stream",
          "text": [
            "['\\ufeffBuffalo Bill’s\\ndefunct\\nwho used to\\nride a watersmooth-silver\\nstallion\\nand break one two three four ', 'alo Bill’s\\ndefunct\\nwho used to\\nride a watersmooth-silver\\nstallion\\nand break one two three four five ', 'ill’s\\ndefunct\\nwho used to\\nride a watersmooth-silver\\nstallion\\nand break one two three four five pigeo', '\\ndefunct\\nwho used to\\nride a watersmooth-silver\\nstallion\\nand break one two three four five pigeons ju', 'nct\\nwho used to\\nride a watersmooth-silver\\nstallion\\nand break one two three four five pigeons just li', 'ho used to\\nride a watersmooth-silver\\nstallion\\nand break one two three four five pigeons just like th', 'ed to\\nride a watersmooth-silver\\nstallion\\nand break one two three four five pigeons just like that\\nJe', '\\nride a watersmooth-silver\\nstallion\\nand break one two three four five pigeons just like that\\nJesus\\n\\n', ' a watersmooth-silver\\nstallion\\nand break one two three four five pigeons just like that\\nJesus\\n\\nhe wa', 'tersmooth-silver\\nstallion\\nand break one two three four five pigeons just like that\\nJesus\\n\\nhe was a h', 'ooth-silver\\nstallion\\nand break one two three four five pigeons just like that\\nJesus\\n\\nhe was a handso', 'silver\\nstallion\\nand break one two three four five pigeons just like that\\nJesus\\n\\nhe was a handsome ma', 'r\\nstallion\\nand break one two three four five pigeons just like that\\nJesus\\n\\nhe was a handsome man\\nand', 'llion\\nand break one two three four five pigeons just like that\\nJesus\\n\\nhe was a handsome man\\nand what', '\\nand break one two three four five pigeons just like that\\nJesus\\n\\nhe was a handsome man\\nand what i wa', 'break one two three four five pigeons just like that\\nJesus\\n\\nhe was a handsome man\\nand what i want to', ' one two three four five pigeons just like that\\nJesus\\n\\nhe was a handsome man\\nand what i want to know', 'two three four five pigeons just like that\\nJesus\\n\\nhe was a handsome man\\nand what i want to know is\\nh', 'hree four five pigeons just like that\\nJesus\\n\\nhe was a handsome man\\nand what i want to know is\\nhow do', 'four five pigeons just like that\\nJesus\\n\\nhe was a handsome man\\nand what i want to know is\\nhow do you ', 'five pigeons just like that\\nJesus\\n\\nhe was a handsome man\\nand what i want to know is\\nhow do you like ', 'pigeons just like that\\nJesus\\n\\nhe was a handsome man\\nand what i want to know is\\nhow do you like your ', 'ns just like that\\nJesus\\n\\nhe was a handsome man\\nand what i want to know is\\nhow do you like your bluee', 'st like that\\nJesus\\n\\nhe was a handsome man\\nand what i want to know is\\nhow do you like your blueeyed b', 'ke that\\nJesus\\n\\nhe was a handsome man\\nand what i want to know is\\nhow do you like your blueeyed boy\\nMi', 'at\\nJesus\\n\\nhe was a handsome man\\nand what i want to know is\\nhow do you like your blueeyed boy\\nMister ', 'sus\\n\\nhe was a handsome man\\nand what i want to know is\\nhow do you like your blueeyed boy\\nMister Death', 'he was a handsome man\\nand what i want to know is\\nhow do you like your blueeyed boy\\nMister Death\\n\\nHad', 's a handsome man\\nand what i want to know is\\nhow do you like your blueeyed boy\\nMister Death\\n\\nHad I th', 'andsome man\\nand what i want to know is\\nhow do you like your blueeyed boy\\nMister Death\\n\\nHad I the hea', 'me man\\nand what i want to know is\\nhow do you like your blueeyed boy\\nMister Death\\n\\nHad I the heaven’s', 'n\\nand what i want to know is\\nhow do you like your blueeyed boy\\nMister Death\\n\\nHad I the heaven’s embr', ' what i want to know is\\nhow do you like your blueeyed boy\\nMister Death\\n\\nHad I the heaven’s embroider', ' i want to know is\\nhow do you like your blueeyed boy\\nMister Death\\n\\nHad I the heaven’s embroidered cl', 'nt to know is\\nhow do you like your blueeyed boy\\nMister Death\\n\\nHad I the heaven’s embroidered cloths,', ' know is\\nhow do you like your blueeyed boy\\nMister Death\\n\\nHad I the heaven’s embroidered cloths,\\nEnwr', ' is\\nhow do you like your blueeyed boy\\nMister Death\\n\\nHad I the heaven’s embroidered cloths,\\nEnwrought', 'ow do you like your blueeyed boy\\nMister Death\\n\\nHad I the heaven’s embroidered cloths,\\nEnwrought with', ' you like your blueeyed boy\\nMister Death\\n\\nHad I the heaven’s embroidered cloths,\\nEnwrought with gold', 'like your blueeyed boy\\nMister Death\\n\\nHad I the heaven’s embroidered cloths,\\nEnwrought with golden an', 'your blueeyed boy\\nMister Death\\n\\nHad I the heaven’s embroidered cloths,\\nEnwrought with golden and sil', 'blueeyed boy\\nMister Death\\n\\nHad I the heaven’s embroidered cloths,\\nEnwrought with golden and silver l', 'yed boy\\nMister Death\\n\\nHad I the heaven’s embroidered cloths,\\nEnwrought with golden and silver light,', 'oy\\nMister Death\\n\\nHad I the heaven’s embroidered cloths,\\nEnwrought with golden and silver light,\\nThe ', 'ster Death\\n\\nHad I the heaven’s embroidered cloths,\\nEnwrought with golden and silver light,\\nThe blue ', 'Death\\n\\nHad I the heaven’s embroidered cloths,\\nEnwrought with golden and silver light,\\nThe blue and t', '\\n\\nHad I the heaven’s embroidered cloths,\\nEnwrought with golden and silver light,\\nThe blue and the di', ' I the heaven’s embroidered cloths,\\nEnwrought with golden and silver light,\\nThe blue and the dim and', 'e heaven’s embroidered cloths,\\nEnwrought with golden and silver light,\\nThe blue and the dim and the ', 'ven’s embroidered cloths,\\nEnwrought with golden and silver light,\\nThe blue and the dim and the dark ', ' embroidered cloths,\\nEnwrought with golden and silver light,\\nThe blue and the dim and the dark cloth', 'oidered cloths,\\nEnwrought with golden and silver light,\\nThe blue and the dim and the dark cloths\\nOf ', 'ed cloths,\\nEnwrought with golden and silver light,\\nThe blue and the dim and the dark cloths\\nOf night', 'oths,\\nEnwrought with golden and silver light,\\nThe blue and the dim and the dark cloths\\nOf night and ', '\\nEnwrought with golden and silver light,\\nThe blue and the dim and the dark cloths\\nOf night and light', 'ought with golden and silver light,\\nThe blue and the dim and the dark cloths\\nOf night and light and ', ' with golden and silver light,\\nThe blue and the dim and the dark cloths\\nOf night and light and the h', ' golden and silver light,\\nThe blue and the dim and the dark cloths\\nOf night and light and the half-l', 'en and silver light,\\nThe blue and the dim and the dark cloths\\nOf night and light and the half-light,', 'd silver light,\\nThe blue and the dim and the dark cloths\\nOf night and light and the half-light,\\nI wo', 'ver light,\\nThe blue and the dim and the dark cloths\\nOf night and light and the half-light,\\nI would s', 'ight,\\nThe blue and the dim and the dark cloths\\nOf night and light and the half-light,\\nI would spread', '\\nThe blue and the dim and the dark cloths\\nOf night and light and the half-light,\\nI would spread the ', 'blue and the dim and the dark cloths\\nOf night and light and the half-light,\\nI would spread the cloth', 'and the dim and the dark cloths\\nOf night and light and the half-light,\\nI would spread the cloths und', 'he dim and the dark cloths\\nOf night and light and the half-light,\\nI would spread the cloths under yo', 'm and the dark cloths\\nOf night and light and the half-light,\\nI would spread the cloths under your fe', ' the dark cloths\\nOf night and light and the half-light,\\nI would spread the cloths under your feet:\\nB', 'dark cloths\\nOf night and light and the half-light,\\nI would spread the cloths under your feet:\\nBut I,', 'cloths\\nOf night and light and the half-light,\\nI would spread the cloths under your feet:\\nBut I, bein', 's\\nOf night and light and the half-light,\\nI would spread the cloths under your feet:\\nBut I, being poo', 'night and light and the half-light,\\nI would spread the cloths under your feet:\\nBut I, being poor, ha', ' and light and the half-light,\\nI would spread the cloths under your feet:\\nBut I, being poor, have on', 'light and the half-light,\\nI would spread the cloths under your feet:\\nBut I, being poor, have only my', ' and the half-light,\\nI would spread the cloths under your feet:\\nBut I, being poor, have only my drea', 'the half-light,\\nI would spread the cloths under your feet:\\nBut I, being poor, have only my dreams;\\nI', 'alf-light,\\nI would spread the cloths under your feet:\\nBut I, being poor, have only my dreams;\\nI have', 'ight,\\nI would spread the cloths under your feet:\\nBut I, being poor, have only my dreams;\\nI have spre', '\\nI would spread the cloths under your feet:\\nBut I, being poor, have only my dreams;\\nI have spread my', 'uld spread the cloths under your feet:\\nBut I, being poor, have only my dreams;\\nI have spread my drea', 'pread the cloths under your feet:\\nBut I, being poor, have only my dreams;\\nI have spread my dreams un', ' the cloths under your feet:\\nBut I, being poor, have only my dreams;\\nI have spread my dreams under y', 'cloths under your feet:\\nBut I, being poor, have only my dreams;\\nI have spread my dreams under your f', 's under your feet:\\nBut I, being poor, have only my dreams;\\nI have spread my dreams under your feet;\\n', 'er your feet:\\nBut I, being poor, have only my dreams;\\nI have spread my dreams under your feet;\\nTread', 'ur feet:\\nBut I, being poor, have only my dreams;\\nI have spread my dreams under your feet;\\nTread soft', 'et:\\nBut I, being poor, have only my dreams;\\nI have spread my dreams under your feet;\\nTread softly be', 'ut I, being poor, have only my dreams;\\nI have spread my dreams under your feet;\\nTread softly because', ' being poor, have only my dreams;\\nI have spread my dreams under your feet;\\nTread softly because you ', 'g poor, have only my dreams;\\nI have spread my dreams under your feet;\\nTread softly because you tread', 'r, have only my dreams;\\nI have spread my dreams under your feet;\\nTread softly because you tread on m', 've only my dreams;\\nI have spread my dreams under your feet;\\nTread softly because you tread on my dre', 'ly my dreams;\\nI have spread my dreams under your feet;\\nTread softly because you tread on my dreams.\\n', ' dreams;\\nI have spread my dreams under your feet;\\nTread softly because you tread on my dreams.\\n\\nHe c', 'ms;\\nI have spread my dreams under your feet;\\nTread softly because you tread on my dreams.\\n\\nHe clasps', ' have spread my dreams under your feet;\\nTread softly because you tread on my dreams.\\n\\nHe clasps the ', ' spread my dreams under your feet;\\nTread softly because you tread on my dreams.\\n\\nHe clasps the crag ', 'ad my dreams under your feet;\\nTread softly because you tread on my dreams.\\n\\nHe clasps the crag with ', ' dreams under your feet;\\nTread softly because you tread on my dreams.\\n\\nHe clasps the crag with crook', 'ms under your feet;\\nTread softly because you tread on my dreams.\\n\\nHe clasps the crag with crooked ha', 'der your feet;\\nTread softly because you tread on my dreams.\\n\\nHe clasps the crag with crooked hands;\\n', 'our feet;\\nTread softly because you tread on my dreams.\\n\\nHe clasps the crag with crooked hands;\\nClose', 'eet;\\nTread softly because you tread on my dreams.\\n\\nHe clasps the crag with crooked hands;\\nClose to t', 'Tread softly because you tread on my dreams.\\n\\nHe clasps the crag with crooked hands;\\nClose to the su', ' softly because you tread on my dreams.\\n\\nHe clasps the crag with crooked hands;\\nClose to the sun in ', 'ly because you tread on my dreams.\\n\\nHe clasps the crag with crooked hands;\\nClose to the sun in lonel', 'cause you tread on my dreams.\\n\\nHe clasps the crag with crooked hands;\\nClose to the sun in lonely lan', ' you tread on my dreams.\\n\\nHe clasps the crag with crooked hands;\\nClose to the sun in lonely lands,\\nR', 'tread on my dreams.\\n\\nHe clasps the crag with crooked hands;\\nClose to the sun in lonely lands,\\nRing’d', ' on my dreams.\\n\\nHe clasps the crag with crooked hands;\\nClose to the sun in lonely lands,\\nRing’d with', 'y dreams.\\n\\nHe clasps the crag with crooked hands;\\nClose to the sun in lonely lands,\\nRing’d with the ', 'ams.\\n\\nHe clasps the crag with crooked hands;\\nClose to the sun in lonely lands,\\nRing’d with the azure', '\\nHe clasps the crag with crooked hands;\\nClose to the sun in lonely lands,\\nRing’d with the azure worl', 'lasps the crag with crooked hands;\\nClose to the sun in lonely lands,\\nRing’d with the azure world, he', ' the crag with crooked hands;\\nClose to the sun in lonely lands,\\nRing’d with the azure world, he stan', 'crag with crooked hands;\\nClose to the sun in lonely lands,\\nRing’d with the azure world, he stands.\\n\\n', 'with crooked hands;\\nClose to the sun in lonely lands,\\nRing’d with the azure world, he stands.\\n\\nThe w', 'crooked hands;\\nClose to the sun in lonely lands,\\nRing’d with the azure world, he stands.\\n\\nThe wrinkl', 'ed hands;\\nClose to the sun in lonely lands,\\nRing’d with the azure world, he stands.\\n\\nThe wrinkled se', 'nds;\\nClose to the sun in lonely lands,\\nRing’d with the azure world, he stands.\\n\\nThe wrinkled sea ben', 'Close to the sun in lonely lands,\\nRing’d with the azure world, he stands.\\n\\nThe wrinkled sea beneath ', ' to the sun in lonely lands,\\nRing’d with the azure world, he stands.\\n\\nThe wrinkled sea beneath him c', 'he sun in lonely lands,\\nRing’d with the azure world, he stands.\\n\\nThe wrinkled sea beneath him crawls', 'n in lonely lands,\\nRing’d with the azure world, he stands.\\n\\nThe wrinkled sea beneath him crawls;\\nHe ', 'lonely lands,\\nRing’d with the azure world, he stands.\\n\\nThe wrinkled sea beneath him crawls;\\nHe watch', 'y lands,\\nRing’d with the azure world, he stands.\\n\\nThe wrinkled sea beneath him crawls;\\nHe watches fr', 'ds,\\nRing’d with the azure world, he stands.\\n\\nThe wrinkled sea beneath him crawls;\\nHe watches from hi', 'ing’d with the azure world, he stands.\\n\\nThe wrinkled sea beneath him crawls;\\nHe watches from his mou', ' with the azure world, he stands.\\n\\nThe wrinkled sea beneath him crawls;\\nHe watches from his mountain', ' the azure world, he stands.\\n\\nThe wrinkled sea beneath him crawls;\\nHe watches from his mountain wall', 'azure world, he stands.\\n\\nThe wrinkled sea beneath him crawls;\\nHe watches from his mountain walls,\\nAn', ' world, he stands.\\n\\nThe wrinkled sea beneath him crawls;\\nHe watches from his mountain walls,\\nAnd lik', 'd, he stands.\\n\\nThe wrinkled sea beneath him crawls;\\nHe watches from his mountain walls,\\nAnd like a t', ' stands.\\n\\nThe wrinkled sea beneath him crawls;\\nHe watches from his mountain walls,\\nAnd like a thunde', 'ds.\\n\\nThe wrinkled sea beneath him crawls;\\nHe watches from his mountain walls,\\nAnd like a thunderbolt', 'The wrinkled sea beneath him crawls;\\nHe watches from his mountain walls,\\nAnd like a thunderbolt he f', 'rinkled sea beneath him crawls;\\nHe watches from his mountain walls,\\nAnd like a thunderbolt he falls.', 'ed sea beneath him crawls;\\nHe watches from his mountain walls,\\nAnd like a thunderbolt he falls.\\n\\nSom', 'a beneath him crawls;\\nHe watches from his mountain walls,\\nAnd like a thunderbolt he falls.\\n\\nSome say', 'eath him crawls;\\nHe watches from his mountain walls,\\nAnd like a thunderbolt he falls.\\n\\nSome say the ', 'him crawls;\\nHe watches from his mountain walls,\\nAnd like a thunderbolt he falls.\\n\\nSome say the world', 'rawls;\\nHe watches from his mountain walls,\\nAnd like a thunderbolt he falls.\\n\\nSome say the world will', ';\\nHe watches from his mountain walls,\\nAnd like a thunderbolt he falls.\\n\\nSome say the world will end ', 'watches from his mountain walls,\\nAnd like a thunderbolt he falls.\\n\\nSome say the world will end in fi', 'es from his mountain walls,\\nAnd like a thunderbolt he falls.\\n\\nSome say the world will end in fire,\\nS', 'om his mountain walls,\\nAnd like a thunderbolt he falls.\\n\\nSome say the world will end in fire,\\nSome s', 's mountain walls,\\nAnd like a thunderbolt he falls.\\n\\nSome say the world will end in fire,\\nSome say in', 'ntain walls,\\nAnd like a thunderbolt he falls.\\n\\nSome say the world will end in fire,\\nSome say in ice.', ' walls,\\nAnd like a thunderbolt he falls.\\n\\nSome say the world will end in fire,\\nSome say in ice.\\nFrom', 's,\\nAnd like a thunderbolt he falls.\\n\\nSome say the world will end in fire,\\nSome say in ice.\\nFrom what', 'd like a thunderbolt he falls.\\n\\nSome say the world will end in fire,\\nSome say in ice.\\nFrom what I’ve', 'e a thunderbolt he falls.\\n\\nSome say the world will end in fire,\\nSome say in ice.\\nFrom what I’ve tast', 'hunderbolt he falls.\\n\\nSome say the world will end in fire,\\nSome say in ice.\\nFrom what I’ve tasted of', 'rbolt he falls.\\n\\nSome say the world will end in fire,\\nSome say in ice.\\nFrom what I’ve tasted of desi', ' he falls.\\n\\nSome say the world will end in fire,\\nSome say in ice.\\nFrom what I’ve tasted of desire\\nI ', 'alls.\\n\\nSome say the world will end in fire,\\nSome say in ice.\\nFrom what I’ve tasted of desire\\nI hold ', '\\n\\nSome say the world will end in fire,\\nSome say in ice.\\nFrom what I’ve tasted of desire\\nI hold with ', 'e say the world will end in fire,\\nSome say in ice.\\nFrom what I’ve tasted of desire\\nI hold with those', ' the world will end in fire,\\nSome say in ice.\\nFrom what I’ve tasted of desire\\nI hold with those who ', 'world will end in fire,\\nSome say in ice.\\nFrom what I’ve tasted of desire\\nI hold with those who favor', ' will end in fire,\\nSome say in ice.\\nFrom what I’ve tasted of desire\\nI hold with those who favor fire', ' end in fire,\\nSome say in ice.\\nFrom what I’ve tasted of desire\\nI hold with those who favor fire.\\nBut', 'in fire,\\nSome say in ice.\\nFrom what I’ve tasted of desire\\nI hold with those who favor fire.\\nBut if i', 're,\\nSome say in ice.\\nFrom what I’ve tasted of desire\\nI hold with those who favor fire.\\nBut if it had', 'ome say in ice.\\nFrom what I’ve tasted of desire\\nI hold with those who favor fire.\\nBut if it had to p', 'ay in ice.\\nFrom what I’ve tasted of desire\\nI hold with those who favor fire.\\nBut if it had to perish', ' ice.\\nFrom what I’ve tasted of desire\\nI hold with those who favor fire.\\nBut if it had to perish twic', '\\nFrom what I’ve tasted of desire\\nI hold with those who favor fire.\\nBut if it had to perish twice,\\nI ', ' what I’ve tasted of desire\\nI hold with those who favor fire.\\nBut if it had to perish twice,\\nI think', ' I’ve tasted of desire\\nI hold with those who favor fire.\\nBut if it had to perish twice,\\nI think I kn', ' tasted of desire\\nI hold with those who favor fire.\\nBut if it had to perish twice,\\nI think I know en', 'ed of desire\\nI hold with those who favor fire.\\nBut if it had to perish twice,\\nI think I know enough ', ' desire\\nI hold with those who favor fire.\\nBut if it had to perish twice,\\nI think I know enough of ha', 're\\nI hold with those who favor fire.\\nBut if it had to perish twice,\\nI think I know enough of hate\\nTo', 'hold with those who favor fire.\\nBut if it had to perish twice,\\nI think I know enough of hate\\nTo say ', 'with those who favor fire.\\nBut if it had to perish twice,\\nI think I know enough of hate\\nTo say that ', 'those who favor fire.\\nBut if it had to perish twice,\\nI think I know enough of hate\\nTo say that for d', ' who favor fire.\\nBut if it had to perish twice,\\nI think I know enough of hate\\nTo say that for destru', 'favor fire.\\nBut if it had to perish twice,\\nI think I know enough of hate\\nTo say that for destruction', ' fire.\\nBut if it had to perish twice,\\nI think I know enough of hate\\nTo say that for destruction ice\\n', '.\\nBut if it had to perish twice,\\nI think I know enough of hate\\nTo say that for destruction ice\\nIs al', ' if it had to perish twice,\\nI think I know enough of hate\\nTo say that for destruction ice\\nIs also gr', 't had to perish twice,\\nI think I know enough of hate\\nTo say that for destruction ice\\nIs also great\\nA', ' to perish twice,\\nI think I know enough of hate\\nTo say that for destruction ice\\nIs also great\\nAnd wo', 'erish twice,\\nI think I know enough of hate\\nTo say that for destruction ice\\nIs also great\\nAnd would s', ' twice,\\nI think I know enough of hate\\nTo say that for destruction ice\\nIs also great\\nAnd would suffic', 'e,\\nI think I know enough of hate\\nTo say that for destruction ice\\nIs also great\\nAnd would suffice.\\n\\nT', 'think I know enough of hate\\nTo say that for destruction ice\\nIs also great\\nAnd would suffice.\\n\\nTwo ro', ' I know enough of hate\\nTo say that for destruction ice\\nIs also great\\nAnd would suffice.\\n\\nTwo roads d', 'ow enough of hate\\nTo say that for destruction ice\\nIs also great\\nAnd would suffice.\\n\\nTwo roads diverg', 'ough of hate\\nTo say that for destruction ice\\nIs also great\\nAnd would suffice.\\n\\nTwo roads diverged in', 'of hate\\nTo say that for destruction ice\\nIs also great\\nAnd would suffice.\\n\\nTwo roads diverged in a ye', 'te\\nTo say that for destruction ice\\nIs also great\\nAnd would suffice.\\n\\nTwo roads diverged in a yellow ', ' say that for destruction ice\\nIs also great\\nAnd would suffice.\\n\\nTwo roads diverged in a yellow wood,', 'that for destruction ice\\nIs also great\\nAnd would suffice.\\n\\nTwo roads diverged in a yellow wood,\\nAnd ', 'for destruction ice\\nIs also great\\nAnd would suffice.\\n\\nTwo roads diverged in a yellow wood,\\nAnd sorry', 'estruction ice\\nIs also great\\nAnd would suffice.\\n\\nTwo roads diverged in a yellow wood,\\nAnd sorry I co', 'ction ice\\nIs also great\\nAnd would suffice.\\n\\nTwo roads diverged in a yellow wood,\\nAnd sorry I could n', ' ice\\nIs also great\\nAnd would suffice.\\n\\nTwo roads diverged in a yellow wood,\\nAnd sorry I could not tr', 'Is also great\\nAnd would suffice.\\n\\nTwo roads diverged in a yellow wood,\\nAnd sorry I could not travel ', 'so great\\nAnd would suffice.\\n\\nTwo roads diverged in a yellow wood,\\nAnd sorry I could not travel both\\n', 'eat\\nAnd would suffice.\\n\\nTwo roads diverged in a yellow wood,\\nAnd sorry I could not travel both\\nAnd b', 'nd would suffice.\\n\\nTwo roads diverged in a yellow wood,\\nAnd sorry I could not travel both\\nAnd be one', 'uld suffice.\\n\\nTwo roads diverged in a yellow wood,\\nAnd sorry I could not travel both\\nAnd be one trav', 'uffice.\\n\\nTwo roads diverged in a yellow wood,\\nAnd sorry I could not travel both\\nAnd be one traveler,', 'e.\\n\\nTwo roads diverged in a yellow wood,\\nAnd sorry I could not travel both\\nAnd be one traveler, long', 'wo roads diverged in a yellow wood,\\nAnd sorry I could not travel both\\nAnd be one traveler, long I st', 'ads diverged in a yellow wood,\\nAnd sorry I could not travel both\\nAnd be one traveler, long I stood\\nA', 'iverged in a yellow wood,\\nAnd sorry I could not travel both\\nAnd be one traveler, long I stood\\nAnd lo', 'ed in a yellow wood,\\nAnd sorry I could not travel both\\nAnd be one traveler, long I stood\\nAnd looked ', ' a yellow wood,\\nAnd sorry I could not travel both\\nAnd be one traveler, long I stood\\nAnd looked down ', 'llow wood,\\nAnd sorry I could not travel both\\nAnd be one traveler, long I stood\\nAnd looked down one a', 'wood,\\nAnd sorry I could not travel both\\nAnd be one traveler, long I stood\\nAnd looked down one as far', '\\nAnd sorry I could not travel both\\nAnd be one traveler, long I stood\\nAnd looked down one as far as I', 'sorry I could not travel both\\nAnd be one traveler, long I stood\\nAnd looked down one as far as I coul', ' I could not travel both\\nAnd be one traveler, long I stood\\nAnd looked down one as far as I could\\nTo ', 'uld not travel both\\nAnd be one traveler, long I stood\\nAnd looked down one as far as I could\\nTo where', 'ot travel both\\nAnd be one traveler, long I stood\\nAnd looked down one as far as I could\\nTo where it b', 'avel both\\nAnd be one traveler, long I stood\\nAnd looked down one as far as I could\\nTo where it bent i', 'both\\nAnd be one traveler, long I stood\\nAnd looked down one as far as I could\\nTo where it bent in the', 'And be one traveler, long I stood\\nAnd looked down one as far as I could\\nTo where it bent in the unde', 'e one traveler, long I stood\\nAnd looked down one as far as I could\\nTo where it bent in the undergrow', ' traveler, long I stood\\nAnd looked down one as far as I could\\nTo where it bent in the undergrowth;\\n\\n', 'eler, long I stood\\nAnd looked down one as far as I could\\nTo where it bent in the undergrowth;\\n\\nThen ', ' long I stood\\nAnd looked down one as far as I could\\nTo where it bent in the undergrowth;\\n\\nThen took ', ' I stood\\nAnd looked down one as far as I could\\nTo where it bent in the undergrowth;\\n\\nThen took the o', 'ood\\nAnd looked down one as far as I could\\nTo where it bent in the undergrowth;\\n\\nThen took the other,', 'nd looked down one as far as I could\\nTo where it bent in the undergrowth;\\n\\nThen took the other, as j', 'oked down one as far as I could\\nTo where it bent in the undergrowth;\\n\\nThen took the other, as just a', 'down one as far as I could\\nTo where it bent in the undergrowth;\\n\\nThen took the other, as just as fai', 'one as far as I could\\nTo where it bent in the undergrowth;\\n\\nThen took the other, as just as fair,\\nAn', 's far as I could\\nTo where it bent in the undergrowth;\\n\\nThen took the other, as just as fair,\\nAnd hav', ' as I could\\nTo where it bent in the undergrowth;\\n\\nThen took the other, as just as fair,\\nAnd having p', ' could\\nTo where it bent in the undergrowth;\\n\\nThen took the other, as just as fair,\\nAnd having perhap', 'd\\nTo where it bent in the undergrowth;\\n\\nThen took the other, as just as fair,\\nAnd having perhaps the', 'where it bent in the undergrowth;\\n\\nThen took the other, as just as fair,\\nAnd having perhaps the bett', ' it bent in the undergrowth;\\n\\nThen took the other, as just as fair,\\nAnd having perhaps the better cl', 'ent in the undergrowth;\\n\\nThen took the other, as just as fair,\\nAnd having perhaps the better claim,\\n', 'n the undergrowth;\\n\\nThen took the other, as just as fair,\\nAnd having perhaps the better claim,\\nBecau', ' undergrowth;\\n\\nThen took the other, as just as fair,\\nAnd having perhaps the better claim,\\nBecause it', 'rgrowth;\\n\\nThen took the other, as just as fair,\\nAnd having perhaps the better claim,\\nBecause it was ', 'th;\\n\\nThen took the other, as just as fair,\\nAnd having perhaps the better claim,\\nBecause it was grass', 'Then took the other, as just as fair,\\nAnd having perhaps the better claim,\\nBecause it was grassy and', 'took the other, as just as fair,\\nAnd having perhaps the better claim,\\nBecause it was grassy and want', 'the other, as just as fair,\\nAnd having perhaps the better claim,\\nBecause it was grassy and wanted we', 'ther, as just as fair,\\nAnd having perhaps the better claim,\\nBecause it was grassy and wanted wear;\\nT', ' as just as fair,\\nAnd having perhaps the better claim,\\nBecause it was grassy and wanted wear;\\nThough', 'ust as fair,\\nAnd having perhaps the better claim,\\nBecause it was grassy and wanted wear;\\nThough as f', 's fair,\\nAnd having perhaps the better claim,\\nBecause it was grassy and wanted wear;\\nThough as for th', 'r,\\nAnd having perhaps the better claim,\\nBecause it was grassy and wanted wear;\\nThough as for that th', 'd having perhaps the better claim,\\nBecause it was grassy and wanted wear;\\nThough as for that the pas', 'ing perhaps the better claim,\\nBecause it was grassy and wanted wear;\\nThough as for that the passing ', 'erhaps the better claim,\\nBecause it was grassy and wanted wear;\\nThough as for that the passing there', 's the better claim,\\nBecause it was grassy and wanted wear;\\nThough as for that the passing there\\nHad ', ' better claim,\\nBecause it was grassy and wanted wear;\\nThough as for that the passing there\\nHad worn ', 'er claim,\\nBecause it was grassy and wanted wear;\\nThough as for that the passing there\\nHad worn them ', 'aim,\\nBecause it was grassy and wanted wear;\\nThough as for that the passing there\\nHad worn them reall', 'Because it was grassy and wanted wear;\\nThough as for that the passing there\\nHad worn them really abo', 'se it was grassy and wanted wear;\\nThough as for that the passing there\\nHad worn them really about th', ' was grassy and wanted wear;\\nThough as for that the passing there\\nHad worn them really about the sam', 'grassy and wanted wear;\\nThough as for that the passing there\\nHad worn them really about the same,\\n\\nA', 'y and wanted wear;\\nThough as for that the passing there\\nHad worn them really about the same,\\n\\nAnd bo', ' wanted wear;\\nThough as for that the passing there\\nHad worn them really about the same,\\n\\nAnd both th', 'ed wear;\\nThough as for that the passing there\\nHad worn them really about the same,\\n\\nAnd both that mo', 'ar;\\nThough as for that the passing there\\nHad worn them really about the same,\\n\\nAnd both that morning', 'hough as for that the passing there\\nHad worn them really about the same,\\n\\nAnd both that morning equa', ' as for that the passing there\\nHad worn them really about the same,\\n\\nAnd both that morning equally l', 'or that the passing there\\nHad worn them really about the same,\\n\\nAnd both that morning equally lay\\nIn', 'at the passing there\\nHad worn them really about the same,\\n\\nAnd both that morning equally lay\\nIn leav', 'e passing there\\nHad worn them really about the same,\\n\\nAnd both that morning equally lay\\nIn leaves no', 'sing there\\nHad worn them really about the same,\\n\\nAnd both that morning equally lay\\nIn leaves no step', 'there\\nHad worn them really about the same,\\n\\nAnd both that morning equally lay\\nIn leaves no step had ', '\\nHad worn them really about the same,\\n\\nAnd both that morning equally lay\\nIn leaves no step had trodd', 'worn them really about the same,\\n\\nAnd both that morning equally lay\\nIn leaves no step had trodden bl', 'them really about the same,\\n\\nAnd both that morning equally lay\\nIn leaves no step had trodden black.\\n', 'really about the same,\\n\\nAnd both that morning equally lay\\nIn leaves no step had trodden black.\\nOh, I', 'y about the same,\\n\\nAnd both that morning equally lay\\nIn leaves no step had trodden black.\\nOh, I kept', 'ut the same,\\n\\nAnd both that morning equally lay\\nIn leaves no step had trodden black.\\nOh, I kept the ', 'e same,\\n\\nAnd both that morning equally lay\\nIn leaves no step had trodden black.\\nOh, I kept the first', 'e,\\n\\nAnd both that morning equally lay\\nIn leaves no step had trodden black.\\nOh, I kept the first for ', 'nd both that morning equally lay\\nIn leaves no step had trodden black.\\nOh, I kept the first for anoth', 'th that morning equally lay\\nIn leaves no step had trodden black.\\nOh, I kept the first for another da', 'at morning equally lay\\nIn leaves no step had trodden black.\\nOh, I kept the first for another day!\\nYe', 'rning equally lay\\nIn leaves no step had trodden black.\\nOh, I kept the first for another day!\\nYet kno', ' equally lay\\nIn leaves no step had trodden black.\\nOh, I kept the first for another day!\\nYet knowing ', 'lly lay\\nIn leaves no step had trodden black.\\nOh, I kept the first for another day!\\nYet knowing how w', 'ay\\nIn leaves no step had trodden black.\\nOh, I kept the first for another day!\\nYet knowing how way le', ' leaves no step had trodden black.\\nOh, I kept the first for another day!\\nYet knowing how way leads o', 'es no step had trodden black.\\nOh, I kept the first for another day!\\nYet knowing how way leads on to ', ' step had trodden black.\\nOh, I kept the first for another day!\\nYet knowing how way leads on to way,\\n', ' had trodden black.\\nOh, I kept the first for another day!\\nYet knowing how way leads on to way,\\nI dou', 'trodden black.\\nOh, I kept the first for another day!\\nYet knowing how way leads on to way,\\nI doubted ', 'en black.\\nOh, I kept the first for another day!\\nYet knowing how way leads on to way,\\nI doubted if I ', 'ack.\\nOh, I kept the first for another day!\\nYet knowing how way leads on to way,\\nI doubted if I shoul', 'Oh, I kept the first for another day!\\nYet knowing how way leads on to way,\\nI doubted if I should eve', ' kept the first for another day!\\nYet knowing how way leads on to way,\\nI doubted if I should ever com', ' the first for another day!\\nYet knowing how way leads on to way,\\nI doubted if I should ever come bac', 'first for another day!\\nYet knowing how way leads on to way,\\nI doubted if I should ever come back.\\n\\nI', ' for another day!\\nYet knowing how way leads on to way,\\nI doubted if I should ever come back.\\n\\nI shal', 'another day!\\nYet knowing how way leads on to way,\\nI doubted if I should ever come back.\\n\\nI shall be ', 'er day!\\nYet knowing how way leads on to way,\\nI doubted if I should ever come back.\\n\\nI shall be telli', 'y!\\nYet knowing how way leads on to way,\\nI doubted if I should ever come back.\\n\\nI shall be telling th', 't knowing how way leads on to way,\\nI doubted if I should ever come back.\\n\\nI shall be telling this wi', 'wing how way leads on to way,\\nI doubted if I should ever come back.\\n\\nI shall be telling this with a ', 'how way leads on to way,\\nI doubted if I should ever come back.\\n\\nI shall be telling this with a sigh\\n', 'ay leads on to way,\\nI doubted if I should ever come back.\\n\\nI shall be telling this with a sigh\\nSomew', 'ads on to way,\\nI doubted if I should ever come back.\\n\\nI shall be telling this with a sigh\\nSomewhere ', 'n to way,\\nI doubted if I should ever come back.\\n\\nI shall be telling this with a sigh\\nSomewhere ages ', 'way,\\nI doubted if I should ever come back.\\n\\nI shall be telling this with a sigh\\nSomewhere ages and a', 'I doubted if I should ever come back.\\n\\nI shall be telling this with a sigh\\nSomewhere ages and ages h', 'bted if I should ever come back.\\n\\nI shall be telling this with a sigh\\nSomewhere ages and ages hence:', 'if I should ever come back.\\n\\nI shall be telling this with a sigh\\nSomewhere ages and ages hence:\\nTwo ', 'should ever come back.\\n\\nI shall be telling this with a sigh\\nSomewhere ages and ages hence:\\nTwo roads', 'd ever come back.\\n\\nI shall be telling this with a sigh\\nSomewhere ages and ages hence:\\nTwo roads dive', 'r come back.\\n\\nI shall be telling this with a sigh\\nSomewhere ages and ages hence:\\nTwo roads diverged ', 'e back.\\n\\nI shall be telling this with a sigh\\nSomewhere ages and ages hence:\\nTwo roads diverged in a ', 'k.\\n\\nI shall be telling this with a sigh\\nSomewhere ages and ages hence:\\nTwo roads diverged in a wood,', ' shall be telling this with a sigh\\nSomewhere ages and ages hence:\\nTwo roads diverged in a wood, and ', 'l be telling this with a sigh\\nSomewhere ages and ages hence:\\nTwo roads diverged in a wood, and I—\\nI ', 'telling this with a sigh\\nSomewhere ages and ages hence:\\nTwo roads diverged in a wood, and I—\\nI took ', 'ng this with a sigh\\nSomewhere ages and ages hence:\\nTwo roads diverged in a wood, and I—\\nI took the o', 'is with a sigh\\nSomewhere ages and ages hence:\\nTwo roads diverged in a wood, and I—\\nI took the one le', 'th a sigh\\nSomewhere ages and ages hence:\\nTwo roads diverged in a wood, and I—\\nI took the one less tr', 'sigh\\nSomewhere ages and ages hence:\\nTwo roads diverged in a wood, and I—\\nI took the one less travele', 'Somewhere ages and ages hence:\\nTwo roads diverged in a wood, and I—\\nI took the one less traveled by,', 'here ages and ages hence:\\nTwo roads diverged in a wood, and I—\\nI took the one less traveled by,\\nAnd ', 'ages and ages hence:\\nTwo roads diverged in a wood, and I—\\nI took the one less traveled by,\\nAnd that ', 'and ages hence:\\nTwo roads diverged in a wood, and I—\\nI took the one less traveled by,\\nAnd that has m', 'ges hence:\\nTwo roads diverged in a wood, and I—\\nI took the one less traveled by,\\nAnd that has made a', 'ence:\\nTwo roads diverged in a wood, and I—\\nI took the one less traveled by,\\nAnd that has made all th', '\\nTwo roads diverged in a wood, and I—\\nI took the one less traveled by,\\nAnd that has made all the dif', 'roads diverged in a wood, and I—\\nI took the one less traveled by,\\nAnd that has made all the differen']\n",
            "['f', 'p', 'n', 's', 'k', 'a', 's', 'h', 's', 'a', 'm', 'n', ' ', ' ', 'n', ' ', ' ', 'o', ' ', 'l', 'y', 'b', 'y', 'o', 's', 'D', '\\n', ' ', 'e', 'v', ' ', 'o', 'e', 'o', '\\n', 'o', ' ', ' ', 'e', 'd', 'v', 'i', '\\n', 'b', 'a', 'h', 'm', ' ', 'd', 'c', 's', 'n', ' ', 'l', ' ', 't', 'a', 'i', '\\n', 'u', 'p', ' ', 'c', 's', 'e', 'u', 'e', 'u', ' ', 'g', 'r', 'v', 'l', ' ', 'm', ' ', ' ', 'a', ' ', 'm', 'd', 'o', 'e', 'T', ' ', 'l', 'c', ' ', 't', ' ', 'y', 'a', '\\n', 'l', ' ', 'c', 'w', 'c', 'e', 'n', 'C', ' ', 'h', 'n', 'l', 'y', 'd', 'i', ' ', ' ', 'a', ' ', 'd', ' ', 'd', 'T', 'r', 'e', 'a', 'e', 'h', 'r', ';', 'w', 'e', 'o', 's', 'n', ' ', 's', 'd', 'e', 'h', 'r', ' ', 'a', '\\n', 'e', ' ', 'w', ' ', ' ', 'i', 'r', 'o', 'a', ' ', '\\n', ' ', ' ', ' ', 'e', ' ', 'r', 'h', 'w', 't', ' ', 'f', ' ', '.', ' ', 't', ' ', 'e', ' ', 'e', 't', ' ', 'o', 'o', 'o', 't', ' ', 't', 'f', 'e', 'c', ' ', 'I', 's', 'e', 'n', 'u', 'u', 'e', 'w', 'a', 'i', 'e', ' ', 'l', 'w', '\\n', 's', ' ', 'u', 'o', 'a', 'b', 'A', 'e', ' ', 'e', ' ', ' ', 'o', 'n', 'o', 'd', 'o', 's', ' ', ' ', 'd', 'w', ' ', 'e', 'n', ' ', 'r', 't', 'T', 't', 't', 't', ' ', 'u', 's', 'r', 'd', 'i', 'e', 's', ' ', 'e', 'a', 'B', 's', ' ', 'g', 'y', ' ', 'e', 'a', 'h', ' ', 'o', 'a', 'e', 's', 't', '\\n', 'w', 't', 'r', 'y', 'u', 'e', 'e', 'n', 't', 'a', 'r', ' ', 'l', 'a', ' ', 'e', ' ', ' ', 't', 'e', 'a', 'O', ' ', ' ', 'f', ' ', 'a', 'e', 'y', 't', 'w', 'h', 'a', 'a', 'n', 'w', 'I', 'b', 'i', 's', 'd', 'r', 'e', 'k', ' ', 'l', 't', 'n', 'i', 't', 's', 'S', 'h', 'a', 'a', 'g', 'e', '\\n', 'r', ' ', 'r', 'i', 'w', ' ', 'I', 't', 't', 'n', 's', 'a', 'd', '\\n', 't', 'h', 'a', 'l', 'e', 'f', 'c']\n"
          ],
          "name": "stdout"
        }
      ]
    },
    {
      "cell_type": "markdown",
      "metadata": {
        "id": "fgEVnn30ecbT"
      },
      "source": [
        "Encoding"
      ]
    },
    {
      "cell_type": "code",
      "metadata": {
        "id": "6G9qeBBub1bW"
      },
      "source": [
        "X = np.zeros((len(sentences), max_length, len(vocabulary)), dtype = np.bool) \n",
        "y = np.zeros((len(sentences), len(vocabulary)), dtype = np.bool) "
      ],
      "execution_count": 155,
      "outputs": []
    },
    {
      "cell_type": "code",
      "metadata": {
        "id": "h6BA-9KPedqf"
      },
      "source": [
        "for i, sentence in enumerate(sentences): \n",
        "\tfor t, char in enumerate(sentence): \n",
        "\t\tX[i, t, char_to_indices[char]] = 1\n",
        "\ty[i, char_to_indices[next_chars[i]]] = 1"
      ],
      "execution_count": 163,
      "outputs": []
    },
    {
      "cell_type": "code",
      "metadata": {
        "colab": {
          "base_uri": "https://localhost:8080/"
        },
        "id": "p_EUaxCeekVa",
        "outputId": "98dae39a-050a-4e3b-f098-8e41d90d08bc"
      },
      "source": [
        "print(X.shape)\n",
        "print(y.shape)"
      ],
      "execution_count": 169,
      "outputs": [
        {
          "output_type": "stream",
          "text": [
            "(332, 100, 51)\n",
            "(332, 51)\n"
          ],
          "name": "stdout"
        }
      ]
    },
    {
      "cell_type": "code",
      "metadata": {
        "colab": {
          "base_uri": "https://localhost:8080/"
        },
        "id": "7HRql8aIfYeT",
        "outputId": "2ccca483-4d95-4fa8-8365-1aea815fb97a"
      },
      "source": [
        "from tensorflow.keras.layers import GRU \n",
        "\n",
        " \n",
        "model = Sequential() \n",
        "\n",
        "model.add(GRU(128, input_shape =(max_length, len(vocabulary)))) \n",
        "\n",
        "model.add(Dense(len(vocabulary))) \n",
        " \n",
        "model.add(Activation('softmax')) \n",
        "\n",
        "optimizer = RMSprop(lr = 0.01) \n",
        "\n",
        "model.compile(loss ='categorical_crossentropy', optimizer = optimizer)\n",
        "\n",
        "\n",
        "model.fit(X, y, batch_size = 128, epochs = 30)#, callbacks = callbacks)"
      ],
      "execution_count": 170,
      "outputs": [
        {
          "output_type": "stream",
          "text": [
            "Epoch 1/30\n",
            "3/3 [==============================] - 1s 14ms/step - loss: 3.9380\n",
            "Epoch 2/30\n",
            "3/3 [==============================] - 0s 13ms/step - loss: 4.0360\n",
            "Epoch 3/30\n",
            "3/3 [==============================] - 0s 13ms/step - loss: 2.7955\n",
            "Epoch 4/30\n",
            "3/3 [==============================] - 0s 13ms/step - loss: 2.6232\n",
            "Epoch 5/30\n",
            "3/3 [==============================] - 0s 11ms/step - loss: 2.4193\n",
            "Epoch 6/30\n",
            "3/3 [==============================] - 0s 11ms/step - loss: 2.2544\n",
            "Epoch 7/30\n",
            "3/3 [==============================] - 0s 11ms/step - loss: 2.1518\n",
            "Epoch 8/30\n",
            "3/3 [==============================] - 0s 11ms/step - loss: 2.0135\n",
            "Epoch 9/30\n",
            "3/3 [==============================] - 0s 12ms/step - loss: 1.7322\n",
            "Epoch 10/30\n",
            "3/3 [==============================] - 0s 10ms/step - loss: 1.6210\n",
            "Epoch 11/30\n",
            "3/3 [==============================] - 0s 10ms/step - loss: 1.6856\n",
            "Epoch 12/30\n",
            "3/3 [==============================] - 0s 12ms/step - loss: 1.4361\n",
            "Epoch 13/30\n",
            "3/3 [==============================] - 0s 11ms/step - loss: 1.3543\n",
            "Epoch 14/30\n",
            "3/3 [==============================] - 0s 10ms/step - loss: 1.1401\n",
            "Epoch 15/30\n",
            "3/3 [==============================] - 0s 9ms/step - loss: 1.0188\n",
            "Epoch 16/30\n",
            "3/3 [==============================] - 0s 9ms/step - loss: 0.7936\n",
            "Epoch 17/30\n",
            "3/3 [==============================] - 0s 9ms/step - loss: 0.6922\n",
            "Epoch 18/30\n",
            "3/3 [==============================] - 0s 9ms/step - loss: 0.5569\n",
            "Epoch 19/30\n",
            "3/3 [==============================] - 0s 10ms/step - loss: 0.5249\n",
            "Epoch 20/30\n",
            "3/3 [==============================] - 0s 9ms/step - loss: 0.3932\n",
            "Epoch 21/30\n",
            "3/3 [==============================] - 0s 9ms/step - loss: 0.2669\n",
            "Epoch 22/30\n",
            "3/3 [==============================] - 0s 9ms/step - loss: 0.1998\n",
            "Epoch 23/30\n",
            "3/3 [==============================] - 0s 9ms/step - loss: 0.2071\n",
            "Epoch 24/30\n",
            "3/3 [==============================] - 0s 9ms/step - loss: 0.1203\n",
            "Epoch 25/30\n",
            "3/3 [==============================] - 0s 9ms/step - loss: 0.0936\n",
            "Epoch 26/30\n",
            "3/3 [==============================] - 0s 9ms/step - loss: 0.0950\n",
            "Epoch 27/30\n",
            "3/3 [==============================] - 0s 9ms/step - loss: 0.0451\n",
            "Epoch 28/30\n",
            "3/3 [==============================] - 0s 10ms/step - loss: 0.0244\n",
            "Epoch 29/30\n",
            "3/3 [==============================] - 0s 9ms/step - loss: 0.0181\n",
            "Epoch 30/30\n",
            "3/3 [==============================] - 0s 8ms/step - loss: 0.0143\n"
          ],
          "name": "stdout"
        },
        {
          "output_type": "execute_result",
          "data": {
            "text/plain": [
              "<tensorflow.python.keras.callbacks.History at 0x7f508b30e750>"
            ]
          },
          "metadata": {
            "tags": []
          },
          "execution_count": 170
        }
      ]
    },
    {
      "cell_type": "code",
      "metadata": {
        "id": "zIBF2pfjg6_c"
      },
      "source": [
        "def prob_character(preds, freedom = 1.0): \n",
        "\tpreds = np.asarray(preds).astype('float64') \n",
        "\t# Normalize \n",
        "\tpreds = np.log(preds) / freedom \n",
        "\texp_preds = np.exp(preds) \n",
        "\tpreds = exp_preds / np.sum(exp_preds) \n",
        "\tprobas = np.random.multinomial(1, preds, 1) \n",
        "\treturn np.argmax(probas)"
      ],
      "execution_count": 172,
      "outputs": []
    },
    {
      "cell_type": "code",
      "metadata": {
        "colab": {
          "base_uri": "https://localhost:8080/"
        },
        "id": "UXIO5Ayqjr5U",
        "outputId": "463146ec-05f4-4295-d2db-f3728be667a1"
      },
      "source": [
        "def generate_text(length, diversity): \n",
        "\tstart = random.randint(0, len(text) - max_length - 1) \n",
        "\tres = '' \n",
        "\tsentence = text[start: start + max_length] \n",
        "\tres += sentence \n",
        "\tfor i in range(length): \n",
        "\n",
        "\t\t\tx_pred = np.zeros((1, max_length, len(vocabulary))) \n",
        "\t\t\tfor t, char in enumerate(sentence): \n",
        "\t\t\t\tx_pred[0, t, char_to_indices[char]] = 1.\n",
        "\t\t\tpreds = model.predict(x_pred, verbose = 0)[0] \n",
        "      #get the highest proba of char\n",
        "\t\t\tnext_index = prob_character(preds, diversity) \n",
        "\t\t\t# Matching the indice to the char to get the character\n",
        "\t\t\tnextChar = indices_to_char[next_index] \n",
        "\t\t\t# appending next char to the res \n",
        "\t\t\tres += nextChar \n",
        "\t\t\tsentence = sentence[1:] + nextChar \n",
        "\treturn res\n",
        "\n",
        "print(generate_text(300, 0.2))\n"
      ],
      "execution_count": 181,
      "outputs": [
        {
          "output_type": "stream",
          "text": [
            " your blueeyed boy\n",
            "Mister Death\n",
            "\n",
            "Had I the heaven’s embroidered cloths,\n",
            "Enwrought with golden and sisve tlind thind thind thind thind thiro thave plssund thind thind thind thind thiro thave plssund thind thind thind thind thire camero wand thind thind thind thind thind thiro thave plssund thind thind thind thind thind thind thind thind thind thind thind thind thire.\n",
            "\n",
            "Twwwroally land thind thind th\n"
          ],
          "name": "stdout"
        }
      ]
    },
    {
      "cell_type": "code",
      "metadata": {
        "colab": {
          "base_uri": "https://localhost:8080/"
        },
        "id": "s2pVrqQAp8_a",
        "outputId": "a3922840-1d53-497f-8a4d-5c8a20c0c4b7"
      },
      "source": [
        "random.randint(0, len(text) - max_length - 1) "
      ],
      "execution_count": 174,
      "outputs": [
        {
          "output_type": "execute_result",
          "data": {
            "text/plain": [
              "1649"
            ]
          },
          "metadata": {
            "tags": []
          },
          "execution_count": 174
        }
      ]
    },
    {
      "cell_type": "code",
      "metadata": {
        "colab": {
          "base_uri": "https://localhost:8080/"
        },
        "id": "s-be_OdPp9XX",
        "outputId": "5eb120f5-fdf5-4158-bf4d-f1a54caacf20"
      },
      "source": [
        "len(np.zeros((1, max_length, len(vocabulary)))[0])"
      ],
      "execution_count": 178,
      "outputs": [
        {
          "output_type": "execute_result",
          "data": {
            "text/plain": [
              "100"
            ]
          },
          "metadata": {
            "tags": []
          },
          "execution_count": 178
        }
      ]
    },
    {
      "cell_type": "code",
      "metadata": {
        "colab": {
          "base_uri": "https://localhost:8080/"
        },
        "id": "oTIUtDPdsuPf",
        "outputId": "8980ad13-f19f-4542-a1b8-6dfcf8c1efa5"
      },
      "source": [
        "max_length"
      ],
      "execution_count": 179,
      "outputs": [
        {
          "output_type": "execute_result",
          "data": {
            "text/plain": [
              "100"
            ]
          },
          "metadata": {
            "tags": []
          },
          "execution_count": 179
        }
      ]
    },
    {
      "cell_type": "code",
      "metadata": {
        "id": "zIyKiliTs70-"
      },
      "source": [
        ""
      ],
      "execution_count": null,
      "outputs": []
    }
  ]
}